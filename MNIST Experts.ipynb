{
 "cells": [
  {
   "cell_type": "markdown",
   "metadata": {},
   "source": [
    "# Deep MNIST para Expertos\n",
    "\n",
    "\n",
    "En esta libreta realizaremos el tutorial de esta [pagina](https://www.tensorflow.org/versions/master/tutorials/mnist/pros/index.html).\n",
    "\n",
    "TensorFlow es una libreria poderosa capaz de realizar operaciones a gran escala. Una de las tareas en las que sobresale es en implementar y entrenar redes neuronales profundas.\n",
    "\n",
    "Se vera la construccion basica para construir un modelo clasificador profundo MNIST.\n",
    "\n",
    "# Setup\n",
    "\n",
    "Antes de que creemos nuestro modelo debemos de cargar los datos del MNIST y empezar una sesion del TensorFlow.\n",
    "\n",
    "# Se cargan los datos MNIST \n",
    "\n",
    "Utilizaremos las siguientes lineas para leer los datos del MNIST_data.\n"
   ]
  },
  {
   "cell_type": "code",
   "execution_count": 1,
   "metadata": {
    "collapsed": false
   },
   "outputs": [
    {
     "name": "stdout",
     "output_type": "stream",
     "text": [
      "Extracting MNIST_data/train-images-idx3-ubyte.gz\n",
      "Extracting MNIST_data/train-labels-idx1-ubyte.gz\n",
      "Extracting MNIST_data/t10k-images-idx3-ubyte.gz\n",
      "Extracting MNIST_data/t10k-labels-idx1-ubyte.gz\n"
     ]
    }
   ],
   "source": [
    "import input_data\n",
    "mnist = input_data.read_data_sets('MNIST_data', one_hot=True)"
   ]
  },
  {
   "cell_type": "markdown",
   "metadata": {},
   "source": [
    "# Comenzar una Sesion TensorFlow\n",
    "\n",
    "TensorFlow trabaja com c++ para realizar los calculos. esta conexion se llama session. \n",
    "\n",
    "Vamos a utilizar la clase **InteractiveSession**, la cual hace a TensorFlow mas flexible acerca de como estructurar el codigo. permitiendo intervalos de operaciones con intervalos de computo grafico."
   ]
  },
  {
   "cell_type": "code",
   "execution_count": 2,
   "metadata": {
    "collapsed": true
   },
   "outputs": [],
   "source": [
    "import tensorflow as tf\n",
    "sess = tf.InteractiveSession()"
   ]
  },
  {
   "cell_type": "markdown",
   "metadata": {},
   "source": [
    "# Construir un modelo de regresion Softmax\n",
    "\n",
    "En esta seccion vamos a construir un model softmax con una sola capa lineal, despues vamos a agregar mas capas para crear una red.\n",
    "\n",
    "# Placeholders\n",
    "\n",
    "Comenzamos construyendo el grafo computacional creando nodos para las imagenes de entrada y para las classes de salida.\n",
    "\n"
   ]
  },
  {
   "cell_type": "code",
   "execution_count": 3,
   "metadata": {
    "collapsed": true
   },
   "outputs": [],
   "source": [
    "x = tf.placeholder(\"float\", shape=[None, 784])\n",
    "y_ = tf.placeholder(\"float\", shape=[None, 10])"
   ]
  },
  {
   "cell_type": "markdown",
   "metadata": {},
   "source": [
    "**x** y **y_** son placeholder para que el TensorFlow llene  cuando realize los calculos.\n",
    "\n",
    "# Variables\n",
    "\n",
    "Ahora definiremos los pesos **W** y el bias **b** para nuestro modelo. Vamos a utlizar una funcion llamada Variable la cual puede ser usada o modificada por los calculos."
   ]
  },
  {
   "cell_type": "code",
   "execution_count": 4,
   "metadata": {
    "collapsed": true
   },
   "outputs": [],
   "source": [
    "W = tf.Variable(tf.zeros([784,10]))\n",
    "b = tf.Variable(tf.zeros([10]))"
   ]
  },
  {
   "cell_type": "markdown",
   "metadata": {
    "collapsed": true
   },
   "source": [
    "Antes de que las variables puedan ser utilizadas se debe de inicializar una sesion."
   ]
  },
  {
   "cell_type": "code",
   "execution_count": 5,
   "metadata": {
    "collapsed": true
   },
   "outputs": [],
   "source": [
    "sess.run(tf.initialize_all_variables())"
   ]
  },
  {
   "cell_type": "markdown",
   "metadata": {},
   "source": [
    "# Clase Predict y Funcion de Coste\n",
    "\n",
    "Ahora podemos implementar nuestro modelo de regresion."
   ]
  },
  {
   "cell_type": "code",
   "execution_count": 6,
   "metadata": {
    "collapsed": true
   },
   "outputs": [],
   "source": [
    "y = tf.nn.softmax(tf.matmul(x,W) + b)"
   ]
  },
  {
   "cell_type": "markdown",
   "metadata": {},
   "source": [
    "La funcion de costo que debe minimizarse durante el entrenamiento se puede especificar facilmente. Nuestra funcion de costo va a se el cross-entropy entre nuestro objetivo y la prediccion."
   ]
  },
  {
   "cell_type": "code",
   "execution_count": 7,
   "metadata": {
    "collapsed": true
   },
   "outputs": [],
   "source": [
    "cross_entropy = -tf.reduce_sum(y_*tf.log(y))"
   ]
  },
  {
   "cell_type": "markdown",
   "metadata": {},
   "source": [
    "Nota que **tf.reduce_sum** suma atravez de todas las imaagenes en un minibatch, asi como en todas las clases.\n",
    "\n",
    "# Entrenar el Modelo\n",
    "\n",
    "Ahora que hemos definido nuestro modelo y la funcion de costo del entrenamiento, esto se hace facilmente con el TensorFlow."
   ]
  },
  {
   "cell_type": "code",
   "execution_count": 8,
   "metadata": {
    "collapsed": true
   },
   "outputs": [],
   "source": [
    "train_step = tf.train.GradientDescentOptimizer(0.01).minimize(cross_entropy)"
   ]
  },
  {
   "cell_type": "markdown",
   "metadata": {},
   "source": [
    "Lo que realizo TensorFlow con una sola linea fue agregar nuevas operaciones de computo, estas incluyen las que calculan el gradiente. las que calculan los parametros que se actualizara, y la que aplica estas actualizaciones a los parametros.\n",
    "\n",
    "La operacion **train_step** va a aplicar el cambio en los parametros del decenso de gradiente. Por lo tanto el entrenamiento del modelo puede ser acompletado realizando esta operacion varias veces."
   ]
  },
  {
   "cell_type": "code",
   "execution_count": 9,
   "metadata": {
    "collapsed": true
   },
   "outputs": [],
   "source": [
    "for i in range(1000):\n",
    "  batch = mnist.train.next_batch(50)\n",
    "  train_step.run(feed_dict={x: batch[0], y_: batch[1]})"
   ]
  },
  {
   "cell_type": "markdown",
   "metadata": {},
   "source": [
    "En Cada iteracion de entrenamiento cargamos 50 ejemplos. despues corremos **train_step** utilizando  **feed_dict** para remplazar los placeholder que tenemos con los ejemplos de entenamiento.\n",
    "\n",
    "# Evalua el Modelo\n",
    "\n",
    "Vamos a utilizar **tf.argmax** la cual es una funcion extremadamente util ya que nos da el indice de la entrada mas grande. Podemos usar **tf.equal** para checar si nuestras predicciones son iguales a la verdad."
   ]
  },
  {
   "cell_type": "code",
   "execution_count": 10,
   "metadata": {
    "collapsed": true
   },
   "outputs": [],
   "source": [
    "correct_prediction = tf.equal(tf.argmax(y,1), tf.argmax(y_,1))"
   ]
  },
  {
   "cell_type": "markdown",
   "metadata": {},
   "source": [
    "Esto nos da una lista de booleanos. Ahora utilizamos **tf.reduce_mean** para obtener el porcentaje de correctas."
   ]
  },
  {
   "cell_type": "code",
   "execution_count": 11,
   "metadata": {
    "collapsed": true
   },
   "outputs": [],
   "source": [
    "accuracy = tf.reduce_mean(tf.cast(correct_prediction, \"float\"))"
   ]
  },
  {
   "cell_type": "markdown",
   "metadata": {},
   "source": [
    "Por ultimo podemos evaluar nuestra precision con los datos de prueba. esto nos deberia dar 91% aproximadamente."
   ]
  },
  {
   "cell_type": "code",
   "execution_count": 12,
   "metadata": {
    "collapsed": false
   },
   "outputs": [
    {
     "name": "stdout",
     "output_type": "stream",
     "text": [
      "0.9092\n"
     ]
    }
   ],
   "source": [
    "print(accuracy.eval(feed_dict={x: mnist.test.images, y_: mnist.test.labels}))"
   ]
  },
  {
   "cell_type": "markdown",
   "metadata": {},
   "source": [
    "# Construir una Red Multicapa\n",
    "\n",
    "Obtener una precision del 91% es malo. Ahora vamos a pasar a un modelo sofisticado, una red neuronal. esto nos dara una precision del 99.2%.\n",
    "\n",
    "# Inicializacion de pesos\n",
    "\n",
    "para crear este modelo vamos a tener que crear muchos pesos y biases. Siempre se deben de inicializar los pesos con cantidades pequeñas de ruido y prevenir gradientes de 0. Como usaremos neuronas ReLU, es buena practica inicializar con una bias un poca positiva para evitar neuronas muertas.\n",
    "Ahora haremos dos funciones muy utiles."
   ]
  },
  {
   "cell_type": "code",
   "execution_count": 13,
   "metadata": {
    "collapsed": true
   },
   "outputs": [],
   "source": [
    "def weight_variable(shape):\n",
    "  initial = tf.truncated_normal(shape, stddev=0.1)\n",
    "  return tf.Variable(initial)\n",
    "\n",
    "def bias_variable(shape):\n",
    "  initial = tf.constant(0.1, shape=shape)\n",
    "  return tf.Variable(initial)"
   ]
  },
  {
   "cell_type": "markdown",
   "metadata": {},
   "source": [
    "# Convolution y Pooling\n",
    "\n",
    "TensorFlow tambien nos da mucha flexivilidad en operaciones de convolution y pooling."
   ]
  },
  {
   "cell_type": "code",
   "execution_count": 14,
   "metadata": {
    "collapsed": true
   },
   "outputs": [],
   "source": [
    "def conv2d(x, W):\n",
    "  return tf.nn.conv2d(x, W, strides=[1, 1, 1, 1], padding='SAME')\n",
    "\n",
    "def max_pool_2x2(x):\n",
    "  return tf.nn.max_pool(x, ksize=[1, 2, 2, 1],\n",
    "                        strides=[1, 2, 2, 1], padding='SAME')"
   ]
  },
  {
   "cell_type": "markdown",
   "metadata": {},
   "source": [
    "# Primera capa\n",
    "\n",
    "Ahora podemos implementar la primera capa que consiste de convolution seguido de max pooling. La forma que tendra los pesos sera de la forma **[5, 5, 1, 32]**. los primeros dos digitos son para el tamaño, el siguiente es el numero de canales de entrada, y el ultimo es el numero de canales de salida."
   ]
  },
  {
   "cell_type": "code",
   "execution_count": 15,
   "metadata": {
    "collapsed": true
   },
   "outputs": [],
   "source": [
    "W_conv1 = weight_variable([5, 5, 1, 32])\n",
    "b_conv1 = bias_variable([32])"
   ]
  },
  {
   "cell_type": "markdown",
   "metadata": {},
   "source": [
    "Para aplicar la capa primero cambiamos la forma de **x** a 4d tensor, donde la segunda y tercer dimension son el tamaño de la imagen, y el ultimo es el numero de color del canal."
   ]
  },
  {
   "cell_type": "code",
   "execution_count": 16,
   "metadata": {
    "collapsed": true
   },
   "outputs": [],
   "source": [
    "x_image = tf.reshape(x, [-1,28,28,1])"
   ]
  },
  {
   "cell_type": "markdown",
   "metadata": {},
   "source": [
    "Despues convolve **x_image** con el peso, agregamos la bias, aplicamos la funcion ReLU y por ultimo el max pool."
   ]
  },
  {
   "cell_type": "code",
   "execution_count": 17,
   "metadata": {
    "collapsed": true
   },
   "outputs": [],
   "source": [
    "h_conv1 = tf.nn.relu(conv2d(x_image, W_conv1) + b_conv1)\n",
    "h_pool1 = max_pool_2x2(h_conv1)"
   ]
  },
  {
   "cell_type": "markdown",
   "metadata": {},
   "source": [
    "# Segunda Capa\n",
    "\n",
    "En orden de construir una red profunda, ponemos varias capas de este tipo. la segunda capa tendra 64 features."
   ]
  },
  {
   "cell_type": "code",
   "execution_count": 18,
   "metadata": {
    "collapsed": true
   },
   "outputs": [],
   "source": [
    "W_conv2 = weight_variable([5, 5, 32, 64])\n",
    "b_conv2 = bias_variable([64])\n",
    "\n",
    "h_conv2 = tf.nn.relu(conv2d(h_pool1, W_conv2) + b_conv2)\n",
    "h_pool2 = max_pool_2x2(h_conv2)"
   ]
  },
  {
   "cell_type": "markdown",
   "metadata": {},
   "source": [
    "# Capa Densamente Conectada\n",
    "\n",
    "Ahora que el tamaño de la imagen a sido reducido a 7x7 agregamos una capa con 1024 neuronas para poder procesar la imagen entera."
   ]
  },
  {
   "cell_type": "code",
   "execution_count": 19,
   "metadata": {
    "collapsed": true
   },
   "outputs": [],
   "source": [
    "W_fc1 = weight_variable([7 * 7 * 64, 1024])\n",
    "b_fc1 = bias_variable([1024])\n",
    "\n",
    "h_pool2_flat = tf.reshape(h_pool2, [-1, 7*7*64])\n",
    "h_fc1 = tf.nn.relu(tf.matmul(h_pool2_flat, W_fc1) + b_fc1)"
   ]
  },
  {
   "cell_type": "markdown",
   "metadata": {},
   "source": [
    "# Dropout\n",
    "\n",
    "para reducir sobreaprendizaje, vamos a salir antes de la capa readout. creamos un **placeholder** por si ocupamos la probabilidad de la neurona de salida si hacemos un dropout.\n",
    "TensorFlow **tf.nn.dropout** automaticamente se encarga de escalar las salidas de las neuronas."
   ]
  },
  {
   "cell_type": "code",
   "execution_count": 20,
   "metadata": {
    "collapsed": true
   },
   "outputs": [],
   "source": [
    "keep_prob = tf.placeholder(\"float\")\n",
    "h_fc1_drop = tf.nn.dropout(h_fc1, keep_prob)"
   ]
  },
  {
   "cell_type": "markdown",
   "metadata": {},
   "source": [
    "# Capa Readout\n",
    "\n",
    "Finalmente agregamos una capa de softmax, la cual es igual a la regresion softmax anterior."
   ]
  },
  {
   "cell_type": "code",
   "execution_count": 21,
   "metadata": {
    "collapsed": true
   },
   "outputs": [],
   "source": [
    "W_fc2 = weight_variable([1024, 10])\n",
    "b_fc2 = bias_variable([10])\n",
    "\n",
    "y_conv=tf.nn.softmax(tf.matmul(h_fc1_drop, W_fc2) + b_fc2)"
   ]
  },
  {
   "cell_type": "markdown",
   "metadata": {},
   "source": [
    "# Entrena y Evalua el Modelo\n",
    "\n",
    "Para entrenar y evaluar se va a utilizar un codigo casi identico al de softmax. la diferencia es que se va a reemplazar el decenso de gradiente por una forma pas sofisticada. vamos a incluir parametros adicionales para controlar la frecuencia de dropout y vamos a imprimir cada 100 iteraciones."
   ]
  },
  {
   "cell_type": "code",
   "execution_count": null,
   "metadata": {
    "collapsed": false
   },
   "outputs": [],
   "source": [
    "cross_entropy = -tf.reduce_sum(y_*tf.log(y_conv))\n",
    "train_step = tf.train.AdamOptimizer(1e-4).minimize(cross_entropy)\n",
    "correct_prediction = tf.equal(tf.argmax(y_conv,1), tf.argmax(y_,1))\n",
    "accuracy = tf.reduce_mean(tf.cast(correct_prediction, \"float\"))\n",
    "sess.run(tf.initialize_all_variables())\n",
    "for i in range(20000):\n",
    "  batch = mnist.train.next_batch(50)\n",
    "  if i%100 == 0:\n",
    "    train_accuracy = accuracy.eval(feed_dict={\n",
    "        x:batch[0], y_: batch[1], keep_prob: 1.0})\n",
    "    print(\"step %d, training accuracy %g\"%(i, train_accuracy))\n",
    "  train_step.run(feed_dict={x: batch[0], y_: batch[1], keep_prob: 0.5})\n",
    "\n",
    "print(\"test accuracy %g\"%accuracy.eval(feed_dict={\n",
    "    x: mnist.test.images, y_: mnist.test.labels, keep_prob: 1.0}))"
   ]
  },
  {
   "cell_type": "markdown",
   "metadata": {},
   "source": [
    "El test final deberia ser aproximadamente 99.2%."
   ]
  }
 ],
 "metadata": {
  "kernelspec": {
   "display_name": "Python 2",
   "language": "python",
   "name": "python2"
  },
  "language_info": {
   "codemirror_mode": {
    "name": "ipython",
    "version": 2
   },
   "file_extension": ".py",
   "mimetype": "text/x-python",
   "name": "python",
   "nbconvert_exporter": "python",
   "pygments_lexer": "ipython2",
   "version": "2.7.11"
  }
 },
 "nbformat": 4,
 "nbformat_minor": 0
}
