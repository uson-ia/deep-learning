{
 "cells": [
  {
   "cell_type": "markdown",
   "metadata": {},
   "source": [
    "#Uso Basico"
   ]
  },
  {
   "cell_type": "markdown",
   "metadata": {},
   "source": [
    "Para usar TensorFlow se necesita entender primero que es TensorFlow:\n",
    "\n",
    "* Representa calculos como grafos.\n",
    "* Ejecuta los grafos en el contexto de sesiones.\n",
    "* Representa los datos como tensores.\n",
    "* Mantiene los estados con variables.\n",
    "* Usa feeds y fetches para obtener datos dentro y fuera de operaciones arbitrarias."
   ]
  },
  {
   "cell_type": "markdown",
   "metadata": {},
   "source": [
    "#Descripcion General"
   ]
  },
  {
   "cell_type": "markdown",
   "metadata": {},
   "source": [
    "TensorFlow es un sistema de programacion el cual representa calculos como grafos. Los nodos en el grafo se llaman ops (forma resumida para decir operaciones). Un op toma cero o mas Tensores, realiza un calculo y produce cero o mas Tensores. Un Tensor es un tipo de arreglo multidimensional. Por ejemplo se puede representar un mini-batch de imagenes como un arreglo de 4 dimensiones de numeros de punto flotante con dimensiones [batch, height, width, channels].\n",
    "\n",
    "Un grafo TensorFlow es una descripcion de calculos. Para realizar cualquier calculo el grafo debe ser inicilizado en una sesion. Una sesion coloca las ops del grafo en dispositivos tal como CPUs o GPUs y provee metodos para ejecutarlos. Estos metodos regresan Tensores producidos por ops como objetos ndarray de numpy en python y como tensorflow::Tensor instancias en C/C++."
   ]
  },
  {
   "cell_type": "markdown",
   "metadata": {},
   "source": [
    "#El Grafo de Calculos"
   ]
  },
  {
   "cell_type": "markdown",
   "metadata": {},
   "source": [
    "Los programas de TensorFlow suelen estar estructurados en una fase de construccion la cual forma un grafo y una fase de ejecucion que utiliza una sesion para ejecutar las ops en el grafo.\n",
    "\n",
    "Por ejemplo es comun crear un grafo para representar y entrenar una red neuronal en la fase de construccion y despues ejecutar varias veces un conjunto de ops de entrenamiento en el grafo durante la fase de ejecucion. "
   ]
  },
  {
   "cell_type": "markdown",
   "metadata": {},
   "source": [
    "#La construccion del Grafo"
   ]
  },
  {
   "cell_type": "markdown",
   "metadata": {},
   "source": [
    "Para empezar a construir el grafo con ops que no necesitan ninguna entrada (ops fuente) como constantes y pasar las salidas de algun calculo a otro calculo.\n",
    "\n",
    "Los constructores de los ops en la libreria de python regresan objetos que representan las salidas de las ops construidas. Se pueden pasar estos objetos a los constructores de otras ops como entradas.\n",
    "\n",
    "La libreria de python TensorFlow provee un grafo por default con varios constructores de ops para agregar nodos el cual es suficiente para varias aplicaciones."
   ]
  },
  {
   "cell_type": "code",
   "execution_count": 9,
   "metadata": {
    "collapsed": false
   },
   "outputs": [],
   "source": [
    "import tensorflow as tf\n",
    "\n",
    "# Crea una op constante que produce una matriz de 1 X 2. \n",
    "# La op se agrega como un nodo al grafo por default. \n",
    "#\n",
    "# El valor que regresa el constructor representa la salida de la op constante.\n",
    "matrix1 = tf.constant([[3., 3.]])\n",
    "\n",
    "# Crea otra constante que produce una matriz de 2 X 1.\n",
    "matrix2 = tf.constant([[2.],[2.]])\n",
    "\n",
    "# Crea una op Matmul que toma la matriz1 y la matriz2 como entradas.\n",
    "# Se regresa un valor producto que representa el resultado de la \n",
    "# Multiplicacion de matrices.\n",
    "product = tf.matmul(matrix1, matrix2)"
   ]
  },
  {
   "cell_type": "markdown",
   "metadata": {},
   "source": [
    "El grafo por default ahora tiene tres nodos los cuales son dos ops constantes y un op matmul(). Para multiplicar en realidad las matrices y obtener el resultado de la multiplicacion se debe iniciar una sesion en el grafo."
   ]
  },
  {
   "cell_type": "markdown",
   "metadata": {},
   "source": [
    "#Iniciando una Sesion en el Grafo"
   ]
  },
  {
   "cell_type": "markdown",
   "metadata": {},
   "source": [
    "Para iniciar un grafo se crea un objeto sesion si no se le mandan argumentos al constructor de la sesion se inicializa como un grafo por default."
   ]
  },
  {
   "cell_type": "code",
   "execution_count": 10,
   "metadata": {
    "collapsed": false
   },
   "outputs": [
    {
     "name": "stdout",
     "output_type": "stream",
     "text": [
      "[[ 12.]]\n"
     ]
    }
   ],
   "source": [
    "# Inicia la sesion en el grafo por default.\n",
    "\n",
    "sess = tf.Session()\n",
    "\n",
    "# Para ejecutar la op matmul se llama a la funcion run() de la sesion, pasando como argumento product\n",
    "# El cual representa la salida de la op matmul. Esto indica que se quiere obtener la salida de la op\n",
    "# matmul.\n",
    "#\n",
    "# Todas las entradas necesitan una op que se ejecute automaticamente durante una sesion. Tipicamente se\n",
    "# ejecuta en paralelo.\n",
    "#\n",
    "# La ejecucion run(product) implica tres ops en el grafo las cuales son dos constantes y un matmul.\n",
    "#\n",
    "# La salida de el op se regresa como un resultado tal como un objeto ndarray de numpy.\n",
    "\n",
    "result = sess.run(product)\n",
    "\n",
    "print(result)\n",
    "\n",
    "# Se cierra la sesion cuando se ha terminado."
   ]
  },
  {
   "cell_type": "markdown",
   "metadata": {},
   "source": [
    "Las sesiones deben de ser cerradas para liberar los recursos. Tambien se puede entrar a una sesion con un bloque la sesion se cerrara automaticamente al fin del bloque."
   ]
  },
  {
   "cell_type": "code",
   "execution_count": 11,
   "metadata": {
    "collapsed": false
   },
   "outputs": [
    {
     "name": "stdout",
     "output_type": "stream",
     "text": [
      "[array([[ 12.]], dtype=float32)]\n"
     ]
    }
   ],
   "source": [
    "with tf.Session() as sess:\n",
    "  result = sess.run([product])\n",
    "  print(result)"
   ]
  },
  {
   "cell_type": "markdown",
   "metadata": {},
   "source": [
    "La implementacion de TensorFlow traduce la definicion del grafo en operaciones ejecutables distribuidas a traves de los recursos de la computadora tal como el CPU. "
   ]
  },
  {
   "cell_type": "markdown",
   "metadata": {},
   "source": [
    "#Uso Interactivo"
   ]
  },
  {
   "cell_type": "markdown",
   "metadata": {},
   "source": [
    "Para el uso interactivo en entornos de Python tal como IPython se puede usar la clase InteractiveSession y las funciones Tensor.eval() y Operation.run(). Esto evita tener que mantener una variable durante la sesion."
   ]
  },
  {
   "cell_type": "code",
   "execution_count": 18,
   "metadata": {
    "collapsed": false
   },
   "outputs": [
    {
     "name": "stdout",
     "output_type": "stream",
     "text": [
      "[-2. -1.]\n"
     ]
    }
   ],
   "source": [
    "# Se entra a una sesion interactiva de TensorFlow\n",
    "import tensorflow as tf\n",
    "\n",
    "sess = tf.InteractiveSession()\n",
    "\n",
    "x = tf.Variable([1.0, 2.0])\n",
    "\n",
    "a = tf.constant([3.0, 3.0])\n",
    "\n",
    "# Se inicializa x usando la funcion run() para inicializar su op.\n",
    "x.initializer.run()\n",
    "\n",
    "# Se agrega una op para restar x de a. Se ejecuta y se imprime el resultado.\n",
    "sub = tf.sub(x, a)\n",
    "print(sub.eval())\n",
    "\n",
    "# Se cierra la sesion cuando se haya terminado."
   ]
  },
  {
   "cell_type": "markdown",
   "metadata": {},
   "source": [
    "#Tensores"
   ]
  },
  {
   "cell_type": "markdown",
   "metadata": {},
   "source": [
    "Los programas TensorFlow usan un tensor como estructura de datos para representar todos los datos. Solo los tensores se pueden pasar entre ops en el grafo de calculos. Se puede pensar en un tensor de TensorFlow como un arreglo de n-dimensiones o una lista. Un tensor tiene un tipo estatico, un rango y un tamanio."
   ]
  },
  {
   "cell_type": "markdown",
   "metadata": {},
   "source": [
    "#Variables"
   ]
  },
  {
   "cell_type": "markdown",
   "metadata": {},
   "source": [
    "Las variables mantienen su estado a travez de la ejecucion de ops en el grafo de calculos. El siguiente ejemplo muestra una variable usada como un contador."
   ]
  },
  {
   "cell_type": "code",
   "execution_count": 16,
   "metadata": {
    "collapsed": false
   },
   "outputs": [
    {
     "name": "stdout",
     "output_type": "stream",
     "text": [
      "0\n",
      "1\n",
      "2\n",
      "3\n"
     ]
    }
   ],
   "source": [
    "# Se crea una variable que sera inicializada con el valor escalar de 0.\n",
    "state = tf.Variable(0, name=\"counter\")\n",
    "\n",
    "# Se crea una op para agregarla a un estado.\n",
    "\n",
    "one = tf.constant(1)\n",
    "new_value = tf.add(state, one)\n",
    "update = tf.assign(state, new_value)\n",
    "\n",
    "# Las variables deben ser inicializadas ejecutando el init de la op despues de iniciar el grafo. \n",
    "# Primero se debe de agregar la init op al grafo.\n",
    "init_op = tf.initialize_all_variables()\n",
    "\n",
    "# Iniciar el grafo y ejecutar las ops\n",
    "with tf.Session() as sess:\n",
    "  # Ejecutar 'init' op\n",
    "  sess.run(init_op)\n",
    "  # Se imprime el valor inicial del estado\n",
    "  print(sess.run(state))\n",
    "  # Se ejecuta la op y actualiza el estado ademas de imprimirlo.\n",
    "  for _ in range(3):\n",
    "    sess.run(update)\n",
    "    print(sess.run(state))"
   ]
  },
  {
   "cell_type": "markdown",
   "metadata": {},
   "source": [
    "La op assign() en este codigo es una parte de la expresion en el grafo tal como la op add() entonces realmente no ejecuta la instruccion hasta que se run() ejecute la expresion.\n",
    "\n",
    "Tipicamente la representacion de parametros en un modelo estadistico se representa como un conjunto de variables. Por ejemplo los pesos de una red neuronal se representarian como un tensor osea una variable. Durante el entrenamiento se actualiza este tensor ejecutando el entrenamiento en el grafo varias veces."
   ]
  },
  {
   "cell_type": "markdown",
   "metadata": {},
   "source": [
    "#Fetches"
   ]
  },
  {
   "cell_type": "markdown",
   "metadata": {},
   "source": [
    "Para obtener los fetch (Recuperar) las salidas de las operaciones se ejecuta en el grafo run() se llama a un objeto de sesion y se pasa en la recuperacion del tensor. En el ejemplo anterior se obtuvo el fetch (recupero) un solo nodo (estado) pero tambien se pueden obtener los fetch de multiples tensores."
   ]
  },
  {
   "cell_type": "code",
   "execution_count": 17,
   "metadata": {
    "collapsed": false
   },
   "outputs": [
    {
     "name": "stdout",
     "output_type": "stream",
     "text": [
      "[21.0, 7.0]\n"
     ]
    }
   ],
   "source": [
    "input1 = tf.constant(3.0)\n",
    "input2 = tf.constant(2.0)\n",
    "input3 = tf.constant(5.0)\n",
    "intermed = tf.add(input2, input3)\n",
    "mul = tf.mul(input1, intermed)\n",
    "\n",
    "with tf.Session() as sess:\n",
    "  result = sess.run([mul, intermed])\n",
    "  print(result)"
   ]
  },
  {
   "cell_type": "markdown",
   "metadata": {},
   "source": [
    "Todas las ops necesitan producir los valores de las peticiones de los tensores estas se ejecutan una vez."
   ]
  },
  {
   "cell_type": "markdown",
   "metadata": {},
   "source": [
    "#Feeds"
   ]
  },
  {
   "cell_type": "markdown",
   "metadata": {},
   "source": [
    "Los ejemplos vistos antes introducen los tensores como un calculo dentro del grafo asi guardando constantes y variables. TensorFlow tambien provee un mecanismo de feed para parchear un tensor directamente dentro de cualquier operacion en el grafo\n",
    "\n",
    "Un feed reeplaza la salida temporalmente de una operacion con un valor de tensor. Se suplen datos feed como un argumento para la llamada de run(). El feed solo se usa cuando la llamada a run se pasa. En los casos de uso mas comunes se disenan operaciones que seran feed para crearlas se usan tf.placeholders()."
   ]
  },
  {
   "cell_type": "code",
   "execution_count": 19,
   "metadata": {
    "collapsed": false
   },
   "outputs": [
    {
     "name": "stdout",
     "output_type": "stream",
     "text": [
      "[array([ 14.], dtype=float32)]\n"
     ]
    },
    {
     "name": "stderr",
     "output_type": "stream",
     "text": [
      "Exception AssertionError: AssertionError() in <bound method InteractiveSession.__del__ of <tensorflow.python.client.session.InteractiveSession object at 0x7f9d5007acd0>> ignored\n"
     ]
    }
   ],
   "source": [
    "input1 = tf.placeholder(tf.float32)\n",
    "input2 = tf.placeholder(tf.float32)\n",
    "output = tf.mul(input1, input2)\n",
    "\n",
    "with tf.Session() as sess:\n",
    "  print(sess.run([output], feed_dict={input1:[7.], input2:[2.]}))"
   ]
  },
  {
   "cell_type": "markdown",
   "metadata": {},
   "source": [
    "Una operacion placeholder() genera un error si no se da soporte de feed."
   ]
  }
 ],
 "metadata": {
  "kernelspec": {
   "display_name": "Python 2",
   "language": "python",
   "name": "python2"
  },
  "language_info": {
   "codemirror_mode": {
    "name": "ipython",
    "version": 2
   },
   "file_extension": ".py",
   "mimetype": "text/x-python",
   "name": "python",
   "nbconvert_exporter": "python",
   "pygments_lexer": "ipython2",
   "version": "2.7.11"
  }
 },
 "nbformat": 4,
 "nbformat_minor": 0
}
