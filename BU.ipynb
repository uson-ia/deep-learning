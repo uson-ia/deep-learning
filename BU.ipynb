{
 "cells": [
  {
   "cell_type": "markdown",
   "metadata": {},
   "source": [
    "#Uso Basico"
   ]
  },
  {
   "cell_type": "markdown",
   "metadata": {},
   "source": [
    "Para usar TensorFlow se necesita entender primero que es TensorFlow:\n",
    "\n",
    "* Representa calculos como grafos.\n",
    "* Ejecuta los grafos en el contexto de sesiones.\n",
    "* Representa los datos como tensores.\n",
    "* Mantiene los estados con variables.\n",
    "* Usa feeds y fetches para obtener datos dentro y fuera de operaciones arbitrarias."
   ]
  },
  {
   "cell_type": "markdown",
   "metadata": {},
   "source": [
    "#Descripcion General"
   ]
  },
  {
   "cell_type": "markdown",
   "metadata": {},
   "source": [
    "TensorFlow es un sistema de programacion el cual representa calculos como grafos. Los nodos en el grafo se llaman ops (forma resumida para decir operaciones). Un op toma cero o mas Tensores, realiza un calculo y produce cero o mas Tensores. Un Tensor es un tipo de arreglo multidimensional. Por ejemplo se puede representar un mini-batch de imagenes como un arreglo de 4 dimensiones de numeros de punto flotante con dimensiones [batch, height, width, channels].\n",
    "\n",
    "Un grafo TensorFlow es una descripcion de calculos. Para realizar cualquier calculo el grafo debe ser inicilizado en una sesion. Una sesion coloca las ops del grafo en dispositivos tal como CPUs o GPUs y provee metodos para ejecutarlos. Estos metodos regresan Tensores producidos por ops como objetos ndarray de numpy en python y como tensorflow::Tensor instancias en C/C++."
   ]
  },
  {
   "cell_type": "markdown",
   "metadata": {},
   "source": [
    "#El Grafo de Calculos"
   ]
  },
  {
   "cell_type": "markdown",
   "metadata": {},
   "source": [
    "Los programas de TensorFlow suelen estar estructurados en una fase de construccion la cual forma un grafo y una fase de ejecucion que utiliza una sesion para ejecutar las ops en el grafo."
   ]
  }
 ],
 "metadata": {
  "kernelspec": {
   "display_name": "Python 2",
   "language": "python",
   "name": "python2"
  },
  "language_info": {
   "codemirror_mode": {
    "name": "ipython",
    "version": 2
   },
   "file_extension": ".py",
   "mimetype": "text/x-python",
   "name": "python",
   "nbconvert_exporter": "python",
   "pygments_lexer": "ipython2",
   "version": "2.7.11"
  }
 },
 "nbformat": 4,
 "nbformat_minor": 0
}
