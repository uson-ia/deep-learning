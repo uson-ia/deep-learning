{
 "cells": [
  {
   "cell_type": "markdown",
   "metadata": {},
   "source": [
    "#Uso Basico"
   ]
  },
  {
   "cell_type": "markdown",
   "metadata": {},
   "source": [
    "Para usar TensorFlow se necesita entender primero que es TensorFlow:\n",
    "\n",
    "* Representa calculos como grafos.\n",
    "* Ejecuta los grafos en el contexto de sesiones.\n",
    "* Representa los datos como tensores.\n",
    "* Mantiene los estados con variables.\n",
    "* Usa feeds y fetches para obtener datos dentro y fuera de operaciones arbitrarias."
   ]
  },
  {
   "cell_type": "markdown",
   "metadata": {},
   "source": [
    "#Descripcion General"
   ]
  },
  {
   "cell_type": "markdown",
   "metadata": {},
   "source": [
    "TensorFlow es un sistema de programacion el cual representa calculos como grafos. Los nodos en el grafo se llaman ops (forma resumida para decir operaciones). Un op toma cero o mas Tensores, realiza un calculo y produce cero o mas Tensores. Un Tensor es un tipo de arreglo multidimensional. Por ejemplo se puede representar un mini-batch de imagenes como un arreglo de 4 dimensiones de numeros de punto flotante con dimensiones [batch, height, width, channels].\n",
    "\n",
    "Un grafo TensorFlow es una descripcion de calculos. Para realizar cualquier calculo el grafo debe ser inicilizado en una sesion. Una sesion coloca las ops del grafo en dispositivos tal como CPUs o GPUs y provee metodos para ejecutarlos. Estos metodos regresan Tensores producidos por ops como objetos ndarray de numpy en python y como tensorflow::Tensor instancias en C/C++."
   ]
  },
  {
   "cell_type": "markdown",
   "metadata": {},
   "source": [
    "#El Grafo de Calculos"
   ]
  },
  {
   "cell_type": "markdown",
   "metadata": {},
   "source": [
    "Los programas de TensorFlow suelen estar estructurados en una fase de construccion la cual forma un grafo y una fase de ejecucion que utiliza una sesion para ejecutar las ops en el grafo.\n",
    "\n",
    "Por ejemplo es comun crear un grafo para representar y entrenar una red neuronal en la fase de construccion y despues ejecutar varias veces un conjunto de ops de entrenamiento en el grafo durante la fase de ejecucion. "
   ]
  },
  {
   "cell_type": "markdown",
   "metadata": {},
   "source": [
    "#La construccion del Grafo"
   ]
  },
  {
   "cell_type": "markdown",
   "metadata": {},
   "source": [
    "Para empezar a construir el grafo con ops que no necesitan ninguna entrada (ops fuente) como constantes y pasar las salidas de algun calculo a otro calculo.\n",
    "\n",
    "Los constructores de los ops en la libreria de python regresan objetos que representan las salidas de las ops construidas. Se pueden pasar estos objetos a los constructores de otras ops como entradas.\n",
    "\n",
    "La libreria de python TensorFlow provee un grafo por default con varios constructores de ops para agregar nodos el cual es suficiente para varias aplicaciones."
   ]
  },
  {
   "cell_type": "code",
   "execution_count": 9,
   "metadata": {
    "collapsed": false
   },
   "outputs": [],
   "source": [
    "import tensorflow as tf\n",
    "\n",
    "# Crea una op constante que produce una matriz de 1 X 2. \n",
    "# La op se agrega como un nodo al grafo por default. \n",
    "#\n",
    "# El valor que regresa el constructor representa la salida de la op constante.\n",
    "matrix1 = tf.constant([[3., 3.]])\n",
    "\n",
    "# Crea otra constante que produce una matriz de 2 X 1.\n",
    "matrix2 = tf.constant([[2.],[2.]])\n",
    "\n",
    "# Crea una op Matmul que toma la matriz1 y la matriz2 como entradas.\n",
    "# Se regresa un valor producto que representa el resultado de la \n",
    "# Multiplicacion de matrices.\n",
    "product = tf.matmul(matrix1, matrix2)"
   ]
  },
  {
   "cell_type": "markdown",
   "metadata": {},
   "source": [
    "El grafo por default ahora tiene tres nodos los cuales son dos ops constantes y un op matmul(). Para multiplicar en realidad las matrices y obtener el resultado de la multiplicacion se debe iniciar una sesion en el grafo."
   ]
  },
  {
   "cell_type": "markdown",
   "metadata": {},
   "source": [
    "#Iniciando una Sesion en el Grafo"
   ]
  },
  {
   "cell_type": "code",
   "execution_count": null,
   "metadata": {
    "collapsed": true
   },
   "outputs": [],
   "source": []
  }
 ],
 "metadata": {
  "kernelspec": {
   "display_name": "Python 2",
   "language": "python",
   "name": "python2"
  },
  "language_info": {
   "codemirror_mode": {
    "name": "ipython",
    "version": 2
   },
   "file_extension": ".py",
   "mimetype": "text/x-python",
   "name": "python",
   "nbconvert_exporter": "python",
   "pygments_lexer": "ipython2",
   "version": "2.7.11"
  }
 },
 "nbformat": 4,
 "nbformat_minor": 0
}
