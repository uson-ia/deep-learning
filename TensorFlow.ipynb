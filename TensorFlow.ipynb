{
 "cells": [
  {
   "cell_type": "markdown",
   "metadata": {},
   "source": [
    "#MNIST Para Principiantes"
   ]
  },
  {
   "cell_type": "markdown",
   "metadata": {},
   "source": [
    "En esta libreta se sigue el tutorial de MNIST For ML Beginners presentado en el proyecto de TensorFlow.\n",
    "\n",
    "Los objetivos de este tutorial es conocer que es MNIST ademas de la regresion softmax.\n",
    "\n",
    "MNIST es un dataset de vision por computadora. Consiste en imagenes de digitos escritos a mano tambien incluye etiquetas de cada imagen donde el nombre de cada etiqueta es el digito que se presenta en la imagen.\n",
    "\n",
    "Ademas en este tutorial se ve un modelo de entrenamiento que revisa las imagenes y predice que digitos hay en ellas dicho modelo se llama regresion softmax.\n"
   ]
  },
  {
   "cell_type": "markdown",
   "metadata": {},
   "source": [
    "#Los Datos de MNIST"
   ]
  },
  {
   "cell_type": "markdown",
   "metadata": {},
   "source": [
    "Los datos de MNIST se descargan mediante el archivo que se encuentra en el proyecto TensorFlow en github llamado input_data.py\n",
    "este archivo descarga los datos que se tratan en tres partes diferentes las cuales son:\n",
    "\n",
    "* mnist.train (Contiene 55,00 puntos de datos de entrenamiento)\n",
    "* mnist.test (Contiene 10.000 puntos de datos de prueba)\n",
    "* mnist.validation (Contiene 5.000 puntos de datos de validación)\n",
    "\n",
    "En machine learning es importante tener los datos de forma separada para que con los datos que se aprenda se pueda generalizar.\n",
    "\n",
    "Como se menciona arriba el dataset MNIST consta de dos partes una es la imagen del digito escrito a mano y la otra la etiqueta con el nombre del correspondiente digito en la imagen a estos dos valores se les llamara \"xs\" y \"ys\" donde xs representa las imagenes y ys las etiquetas. Los datos de mnist.train y mnist.test contienen los valores de xs y ys.\n",
    "\n",
    "Cada imagen es de tamano de 28 x 28 pixeles lo cual se puede interpretar como un vector con 784 numeros.\n",
    "\n",
    "El resultado es que mnist.train.images es un tensor (Un arreglo de dimension n) con el siguiente tamano [55000, 784]. El primer indice corresponde al indice de las imagenes y el segundo indice a el tamano en pixeles que tiene cada imagen. \n",
    "\n",
    "Cada posicion en el tensor representa un pixel que se encuentra en una imagen cada pixel tiene un valor en el rango de 0 a 1.\n",
    "\n",
    "Las etiquetas en MNIST estan en el rango de 0-9 los cuales son los digitos que pueden contener estas imagenes. Para utilizar las etiquetas se utiliza \"one-hot vectors\" lo cual es un vector que en la mayoria de sus dimensiones contiene un 0 y en una dimension tiene un valor unico en este caso 1. \n",
    "\n",
    "Por ejemplo si se tiene la etiqueta 3 se representa por el siguiente vector [0, 0, 0, 1, 0, 0, 0, 0, 0].\n",
    "\n",
    "A continuacion se muestra el codigo para descargar los datos de MNIST. \n"
   ]
  },
  {
   "cell_type": "code",
   "execution_count": 1,
   "metadata": {
    "collapsed": false
   },
   "outputs": [
    {
     "name": "stdout",
     "output_type": "stream",
     "text": [
      "Extracting MNIST_data/train-images-idx3-ubyte.gz\n",
      "Extracting MNIST_data/train-labels-idx1-ubyte.gz\n",
      "Extracting MNIST_data/t10k-images-idx3-ubyte.gz\n",
      "Extracting MNIST_data/t10k-labels-idx1-ubyte.gz\n"
     ]
    }
   ],
   "source": [
    "import tensorflow as tf\n",
    "import input_data\n",
    "\n",
    "mnist = input_data.read_data_sets(\"MNIST_data/\", one_hot=True)"
   ]
  },
  {
   "cell_type": "markdown",
   "metadata": {},
   "source": [
    "#Regresión Softmax"
   ]
  },
  {
   "cell_type": "markdown",
   "metadata": {},
   "source": [
    "Se sabe que en MNIST cada imagen representa un digito el cual esta en el rango de 0-9. La idea de utilizar un modelo de entrenamiento que por ejemplo dada una imagen de MNIST que contenga por decir un 9 se pueda decir con cierta probabilidad que digito le corresponde a dicha imagen se espera que el modelo de una probabilidad muy alta de que sea el valor 9 pero tambien se puede esperar una probabilidad pequena de que sea un 8 y una mas pequena probabilidad de que sea otro digito.\n",
    "\n",
    "Este es un caso clasico de una regresion softmax en donde se busca asignar probabilidades a un objeto o a diferentes cosas.\n",
    "\n",
    "Una regresion softmax consiste de dos pasos:\n",
    "\n",
    "1) Se agrega la evidencia que se tiene en ciertas clases.\n",
    "2) Se convierte dicha evidencia en probabilidades.\n",
    "\n",
    "Para determinar si una imagen pertenece a una clase en especial se utiliza una suma ponderada en donde se cuentan la intensidad de los pixeles si la suma ponderada da un valor negativo para una clase en particular significa que la imagen no pertenece a esa clase y si da positivo significa que puede pertenecer a esa clase.\n",
    "\n",
    "Ademas se necesita una evidencia extra a la cual se le llama bias. Basicamanete se quiere decir que algunas cosas son independientes de la entrada. El resultado es la evidencia para una clase i dada una entrada x es:\n",
    "\n",
    "$$\\text{evidence}_i = \\sum_j W_{i,~ j} x_j + b_i$$\n",
    "\n",
    "donde wi son los pesos y bi es el bias para la clase i, ademas j es el indice para la suma de los pixeles en la entrada de la imagen x.\n",
    "\n",
    "Se convierte la evidencia en probabilidades predecidas por la regresion softmax:\n",
    "\n",
    "$$y = \\text{softmax}(\\text{evidence})$$\n",
    "\n",
    "Aqui la regresion softmax sirve como una funcion de activacion dando forma a la salida de la funcion lineal a utilizar en la forma que se desea en este caso una distribucion de probabilidad con 10 casos.\n",
    "\n",
    "La funcion softmax se define como:\n",
    "\n",
    "$$\\text{softmax}(x) = \\text{normalize}(\\exp(x))$$\n",
    "\n",
    "Si se expande la ecuacion se obtiene:\n",
    "\n",
    "$$\\text{softmax}(x)_i = \\frac{\\exp(x_i)}{\\sum_j \\exp(x_j)}$$\n",
    "\n",
    "La exponenciación significa que una unidad mas de evidencia incrementa el peso para cualquier hipotesis caso contrario una unidad menos de evidencia decrementa el peso para cualquier hipotesis. Ninguna hipotesis tendra el valor 0 o un valor negativo. La regresion softmax normaliza los pesos gracias a esto se tiene una distribucion valida de probabilidad.\n",
    "\n",
    "La regresion softmax se puede ver de la siguiente forma: \n",
    "\n",
    "![Image of Yaktocat](https://www.tensorflow.org/versions/master/images/softmax-regression-scalargraph.png)\n",
    "\n",
    "Las salidas de la regresion softmax se pueden escribir de la siguiente manera:\n",
    "\n",
    "![Image of Yaktocat](https://www.tensorflow.org/versions/master/images/softmax-regression-scalarequation.png)\n",
    "\n",
    "Tambien se puede vectorizar el procedimiento anterior transformandolo en una multiplicacion de matrices y la suma de un vector como se ve a continuacion:\n",
    "\n",
    "\n",
    "![Image of Yaktocat](https://www.tensorflow.org/versions/master/images/softmax-regression-vectorequation.png)\n",
    "\n",
    "\n"
   ]
  }
 ],
 "metadata": {
  "kernelspec": {
   "display_name": "Python 2",
   "language": "python",
   "name": "python2"
  },
  "language_info": {
   "codemirror_mode": {
    "name": "ipython",
    "version": 2
   },
   "file_extension": ".py",
   "mimetype": "text/x-python",
   "name": "python",
   "nbconvert_exporter": "python",
   "pygments_lexer": "ipython2",
   "version": "2.7.11"
  }
 },
 "nbformat": 4,
 "nbformat_minor": 0
}
