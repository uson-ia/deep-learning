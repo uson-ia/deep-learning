{
 "cells": [
  {
   "cell_type": "markdown",
   "metadata": {},
   "source": [
    "En el trabajo *Neurona revertible* el algoritmo que se desarrolló va actualizando los intervalos de valores posibles de manera secuencial sobre las variables desconocidas.\n",
    "\n",
    "He encontrado que este cálculo no necesariamente encuentra intervalos válidos.\n",
    "\n",
    "En el presente trabajo se desarrolla un algoritmo de aproximación de intervalos partiendo de una ecuación lineal con $n$ variables, todas inicialmente con la restricción de valor $[0,1]$"
   ]
  },
  {
   "cell_type": "code",
   "execution_count": 1,
   "metadata": {
    "collapsed": false
   },
   "outputs": [
    {
     "data": {
      "text/plain": [
       "nextInterval (generic function with 1 method)"
      ]
     },
     "execution_count": 1,
     "metadata": {},
     "output_type": "execute_result"
    }
   ],
   "source": [
    "function nextInterval(cs, k, B)\n",
    "    B̂ = zeros(B)\n",
    "        \n",
    "    cB = [cs[i]<0.0?(cs[i]B[i,2-j]):(cs[i]B[i,1+j]) for i in eachindex(cs), j in 0:1]\n",
    "    \n",
    "    for i in eachindex(cs)\n",
    "        firstBound = k\n",
    "        secondBound = k\n",
    "        for j in eachindex(cs)\n",
    "            if j != i\n",
    "                firstBound  -= cs[j]*(cs[j]<0.0?B[j,1]:B[j,2])\n",
    "                secondBound -= cs[j]*(cs[j]<0.0?B[j,2]:B[j,1])\n",
    "            end\n",
    "        end\n",
    "        firstBound  *= (1.0/cs[i])\n",
    "        secondBound *= (1.0/cs[i])\n",
    "        \n",
    "        if cs[i] >= 0.0\n",
    "            B̂[i,1] = firstBound\n",
    "            B̂[i,2] = secondBound\n",
    "        else\n",
    "            B̂[i,1] = secondBound\n",
    "            B̂[i,2] = firstBound\n",
    "        end\n",
    "    end\n",
    "    [max(B̂, B)[:,1] min(B̂, B)[:,2]]\n",
    "    #B̂\n",
    "end"
   ]
  },
  {
   "cell_type": "code",
   "execution_count": 2,
   "metadata": {
    "collapsed": false
   },
   "outputs": [
    {
     "data": {
      "text/plain": [
       "logit (generic function with 1 method)"
      ]
     },
     "execution_count": 2,
     "metadata": {},
     "output_type": "execute_result"
    }
   ],
   "source": [
    "function logistic(x)\n",
    "    1/(1+exp(-x))\n",
    "end\n",
    "\n",
    "function logit(x)\n",
    "    -log(1/x - 1)\n",
    "    #log(x/(1-x))\n",
    "end"
   ]
  },
  {
   "cell_type": "code",
   "execution_count": 3,
   "metadata": {
    "collapsed": false
   },
   "outputs": [
    {
     "data": {
      "text/plain": [
       "3x2 Array{Float64,2}:\n",
       " 0.0  1.0    \n",
       " 0.0  0.94472\n",
       " 0.0  1.0    "
      ]
     },
     "execution_count": 3,
     "metadata": {},
     "output_type": "execute_result"
    }
   ],
   "source": [
    "n = 3\n",
    "xs = rand(n)\n",
    "cs = 2*(rand(n)')-1\n",
    "c = rand()\n",
    "y = logistic((cs*xs+c)[1])\n",
    "k = logit(y)-c\n",
    "B = [zeros(n) ones(n)];\n",
    "B̂ = nextInterval(cs, k, B)"
   ]
  },
  {
   "cell_type": "markdown",
   "metadata": {
    "collapsed": true
   },
   "source": [
    "En las pruebas realizadas no se han encontrado mejoras después de sucesiones repetidas del algoritmo de aproximación; resta entonces, demostrar que la mejora en una cota no afectará a las otras con las restricciones planteadas o en su defecto, dar un contra ejemplo el cual SI requiera mas de una iteración de aproximación."
   ]
  }
 ],
 "metadata": {
  "kernelspec": {
   "display_name": "Julia 0.4.0",
   "language": "julia",
   "name": "julia-0.4"
  },
  "language_info": {
   "file_extension": ".jl",
   "mimetype": "application/julia",
   "name": "julia",
   "version": "0.4.0"
  }
 },
 "nbformat": 4,
 "nbformat_minor": 0
}
