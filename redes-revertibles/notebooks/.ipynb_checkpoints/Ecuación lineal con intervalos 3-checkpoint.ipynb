{
 "cells": [
  {
   "cell_type": "code",
   "execution_count": 1,
   "metadata": {
    "collapsed": true
   },
   "outputs": [],
   "source": [
    "using Distributions"
   ]
  },
  {
   "cell_type": "code",
   "execution_count": 2,
   "metadata": {
    "collapsed": false
   },
   "outputs": [
    {
     "data": {
      "text/plain": [
       "logit (generic function with 1 method)"
      ]
     },
     "execution_count": 2,
     "metadata": {},
     "output_type": "execute_result"
    }
   ],
   "source": [
    "logistic(x) = 1.0/(1.0+exp(-x))\n",
    "logit(x) = -log(1.0/x - 1.0)"
   ]
  },
  {
   "cell_type": "markdown",
   "metadata": {},
   "source": [
    "\n",
    "# Planteamiento del problema como red neuronal\n"
   ]
  },
  {
   "cell_type": "code",
   "execution_count": 3,
   "metadata": {
    "collapsed": false
   },
   "outputs": [
    {
     "data": {
      "text/plain": [
       "4"
      ]
     },
     "execution_count": 3,
     "metadata": {},
     "output_type": "execute_result"
    }
   ],
   "source": [
    "# cantidad de neuronas en la capa l+1\n",
    "m = 2\n",
    "\n",
    "# cantidad de neuronas en la capa l\n",
    "n = 4"
   ]
  },
  {
   "cell_type": "code",
   "execution_count": 4,
   "metadata": {
    "collapsed": false
   },
   "outputs": [
    {
     "data": {
      "text/plain": [
       "5x2 Array{Float64,2}:\n",
       "  2.17367   -2.06626 \n",
       "  0.714751   0.932224\n",
       " -1.59539    0.939325\n",
       "  0.310522   1.95959 \n",
       "  0.811779  -0.288435"
      ]
     },
     "execution_count": 4,
     "metadata": {},
     "output_type": "execute_result"
    }
   ],
   "source": [
    "# algúna matriz de pesos válida para la capa l+1\n",
    "W = rand(Uniform(-sqrt(n+1),sqrt(n+1)), (n+1,m))"
   ]
  },
  {
   "cell_type": "code",
   "execution_count": 5,
   "metadata": {
    "collapsed": false
   },
   "outputs": [
    {
     "data": {
      "text/plain": [
       "4-element Array{Float64,1}:\n",
       " 0.963205\n",
       " 0.195247\n",
       " 0.158266\n",
       " 0.545219"
      ]
     },
     "execution_count": 5,
     "metadata": {},
     "output_type": "execute_result"
    }
   ],
   "source": [
    "# algún vector válido de activaciones para la capa l\n",
    "x = rand(n)"
   ]
  },
  {
   "cell_type": "code",
   "execution_count": 6,
   "metadata": {
    "collapsed": false
   },
   "outputs": [
    {
     "data": {
      "text/plain": [
       "2-element Array{Float64,1}:\n",
       " 0.954452\n",
       " 0.303208"
      ]
     },
     "execution_count": 6,
     "metadata": {},
     "output_type": "execute_result"
    }
   ],
   "source": [
    "# valor de activaciones para la capa l+1 a partir de W y x\n",
    "y = map(logistic, W'*[1.0;x])"
   ]
  },
  {
   "cell_type": "markdown",
   "metadata": {},
   "source": [
    "Ahora falta encontrar una manera de generar valores aleatorios $\\hat{x}$ tal que $map(logistic, W'[1.0;\\hat{x}]) = y$"
   ]
  },
  {
   "cell_type": "markdown",
   "metadata": {},
   "source": [
    "# Solucionando el problema con álgebra lineal"
   ]
  },
  {
   "cell_type": "code",
   "execution_count": 7,
   "metadata": {
    "collapsed": false
   },
   "outputs": [
    {
     "data": {
      "text/plain": [
       "2-element Array{Float64,1}:\n",
       " -1.21922\n",
       "  2.36947"
      ]
     },
     "execution_count": 7,
     "metadata": {},
     "output_type": "execute_result"
    }
   ],
   "source": [
    "# A consiste de los pesos en W que estan asociados a variables desconocidas\n",
    "A = W'[:,2:end]\n",
    "\n",
    "# b consiste de la salida de la neurona l+1 menos los valores de W asociados al valor 1.0\n",
    "b = y-W'[:,1]"
   ]
  },
  {
   "cell_type": "code",
   "execution_count": 8,
   "metadata": {
    "collapsed": false
   },
   "outputs": [
    {
     "data": {
      "text/plain": [
       "4x4 Array{Float64,2}:\n",
       "  0.681518   0.163719  -0.42001     -0.11764   \n",
       "  0.163719   0.23275   -0.135702     0.365183  \n",
       " -0.42001   -0.135702   0.265108     0.00170341\n",
       " -0.11764    0.365183   0.00170341   0.820623  "
      ]
     },
     "execution_count": 8,
     "metadata": {},
     "output_type": "execute_result"
    }
   ],
   "source": [
    "# Cálculo arcano para obtener la x estimada con menor norma 2\n",
    "pseudoinv = pinv(A)\n",
    "constant  = pseudoinv*b\n",
    "factor    = eye(n)-pseudoinv*A"
   ]
  },
  {
   "cell_type": "code",
   "execution_count": 9,
   "metadata": {
    "collapsed": false
   },
   "outputs": [
    {
     "data": {
      "text/plain": [
       "4-element Array{Float64,1}:\n",
       "  0.174113\n",
       "  0.806081\n",
       "  0.69061 \n",
       " -0.335185"
      ]
     },
     "execution_count": 9,
     "metadata": {},
     "output_type": "execute_result"
    }
   ],
   "source": [
    "xLMS = constant + factor*zeros(n)"
   ]
  },
  {
   "cell_type": "markdown",
   "metadata": {},
   "source": [
    "Revisamos que $xLMS$ sirve como solución"
   ]
  },
  {
   "cell_type": "code",
   "execution_count": 10,
   "metadata": {
    "collapsed": false
   },
   "outputs": [
    {
     "data": {
      "text/plain": [
       "2-element Array{Float64,1}:\n",
       "  0.0        \n",
       " -1.33227e-15"
      ]
     },
     "execution_count": 10,
     "metadata": {},
     "output_type": "execute_result"
    }
   ],
   "source": [
    "# debe ser muy pequeño el vector\n",
    "A*xLMS - b"
   ]
  },
  {
   "cell_type": "markdown",
   "metadata": {},
   "source": [
    "Conseguir otras soluciones"
   ]
  },
  {
   "cell_type": "code",
   "execution_count": 11,
   "metadata": {
    "collapsed": false
   },
   "outputs": [
    {
     "data": {
      "text/plain": [
       "4-element Array{Float64,1}:\n",
       "  0.692932 \n",
       "  1.12818  \n",
       "  0.335339 \n",
       " -0.0230787"
      ]
     },
     "execution_count": 11,
     "metadata": {},
     "output_type": "execute_result"
    }
   ],
   "source": [
    "x2 = constant + factor*rand(n)"
   ]
  },
  {
   "cell_type": "code",
   "execution_count": 12,
   "metadata": {
    "collapsed": false
   },
   "outputs": [
    {
     "data": {
      "text/plain": [
       "2-element Array{Float64,1}:\n",
       " 0.0\n",
       " 0.0"
      ]
     },
     "execution_count": 12,
     "metadata": {},
     "output_type": "execute_result"
    }
   ],
   "source": [
    "A*x2 - b"
   ]
  },
  {
   "cell_type": "markdown",
   "metadata": {},
   "source": [
    "Podemos realizar una busqueda sobre $w$ para encontrar una $\\hat{x}$ que cumpla con las restricciones"
   ]
  },
  {
   "cell_type": "code",
   "execution_count": 13,
   "metadata": {
    "collapsed": false
   },
   "outputs": [
    {
     "data": {
      "text/plain": [
       "estimationError (generic function with 1 method)"
      ]
     },
     "execution_count": 13,
     "metadata": {},
     "output_type": "execute_result"
    }
   ],
   "source": [
    "function estimate(w)\n",
    "    constant + factor*w\n",
    "end\n",
    "\n",
    "function estimationError(x̂)\n",
    "    abs(A*x̂ - b)\n",
    "end"
   ]
  },
  {
   "cell_type": "code",
   "execution_count": 14,
   "metadata": {
    "collapsed": false
   },
   "outputs": [
    {
     "data": {
      "text/plain": [
       "4-element Array{Float64,1}:\n",
       " 0.327906\n",
       " 1.11906 \n",
       " 0.54616 \n",
       " 0.19975 "
      ]
     },
     "execution_count": 14,
     "metadata": {},
     "output_type": "execute_result"
    }
   ],
   "source": [
    "x̂ = estimate([.5, .5, .5, .5])"
   ]
  },
  {
   "cell_type": "code",
   "execution_count": 15,
   "metadata": {
    "collapsed": false
   },
   "outputs": [
    {
     "data": {
      "text/plain": [
       "2-element Array{Float64,1}:\n",
       " 2.22045e-16\n",
       " 8.88178e-16"
      ]
     },
     "execution_count": 15,
     "metadata": {},
     "output_type": "execute_result"
    }
   ],
   "source": [
    "estimationError(x̂)"
   ]
  },
  {
   "cell_type": "code",
   "execution_count": 62,
   "metadata": {
    "collapsed": false
   },
   "outputs": [
    {
     "data": {
      "text/plain": [
       "getSolution (generic function with 1 method)"
      ]
     },
     "execution_count": 62,
     "metadata": {},
     "output_type": "execute_result"
    }
   ],
   "source": [
    "middle = ones(n).*0.5\n",
    "\n",
    "function bestOne(estimate, w1, w2, w3)\n",
    "    x̂1 = estimate(w1)\n",
    "    x̂2 = estimate(w2)\n",
    "    x̂3 = estimate(w3)\n",
    "    d1 = norm(middle-x̂1)\n",
    "    d2 = norm(middle-x̂2)\n",
    "    d3 = norm(middle-x̂3)\n",
    "    if d1 <= d2 && d1 <= d3\n",
    "        return w1\n",
    "    elseif d2 <= d1 && d2 <= d3\n",
    "        return w2\n",
    "    elseif d3 <= d1 && d3 <= d2\n",
    "        return w3\n",
    "    else\n",
    "        return w1\n",
    "    end\n",
    "end\n",
    "\n",
    "#function getSolution(estimate, seed)\n",
    "#    x̂ = estimate(seed)\n",
    "#    if all(0 .<= x̂ .<= 1)\n",
    "#        x̂\n",
    "#    else\n",
    "#        α = rand()\n",
    "#        i = rand(1:length(seed))\n",
    "#        w2 = copy(seed)\n",
    "#        w2[i] += α\n",
    "#        w3 = copy(seed)\n",
    "#        w3[i] -= α\n",
    "#        \n",
    "#        return getSolution(estimate, bestOne(estimate, seed, w2, w3))\n",
    "#    end\n",
    "#end\n",
    "\n",
    "function getSolution(estimate)\n",
    "    w1 = zeros(n)\n",
    "    w2 = copy(w1)\n",
    "    w3 = copy(w1)\n",
    "    x̂ = estimate(w1)\n",
    "    \n",
    "    steps = 1\n",
    "    \n",
    "    while true\n",
    "        α = 0.00001*rand()\n",
    "        i = rand(m:n)\n",
    "        copy!(w1, w2)\n",
    "        w2[i] =  w2[i] + α\n",
    "        copy!(w1, w3)\n",
    "        w3[i] = w3[i] - α\n",
    "        \n",
    "        x̂ = estimate(bestOne(estimate, w1, w2, w3))\n",
    "        #println(\"$(i) >> $(x̂)\")\n",
    "        #sleep(.5)\n",
    "        \n",
    "        if all(0 .<= x̂ .<= 1) || steps == 100000\n",
    "            break\n",
    "        end\n",
    "        steps = steps + 1\n",
    "    end\n",
    "    println(steps)\n",
    "    return x̂\n",
    "end"
   ]
  },
  {
   "cell_type": "code",
   "execution_count": 63,
   "metadata": {
    "collapsed": false
   },
   "outputs": [
    {
     "name": "stdout",
     "output_type": "stream",
     "text": [
      "100000\n"
     ]
    },
    {
     "data": {
      "text/plain": [
       "4-element Array{Float64,1}:\n",
       "  0.111883\n",
       "  0.883234\n",
       "  0.712389\n",
       " -0.137094"
      ]
     },
     "execution_count": 63,
     "metadata": {},
     "output_type": "execute_result"
    }
   ],
   "source": [
    "x̂ = getSolution(estimate)"
   ]
  },
  {
   "cell_type": "code",
   "execution_count": 33,
   "metadata": {
    "collapsed": false
   },
   "outputs": [
    {
     "data": {
      "text/plain": [
       "2-element Array{Float64,1}:\n",
       " 3.55271e-15\n",
       " 3.55271e-15"
      ]
     },
     "execution_count": 33,
     "metadata": {},
     "output_type": "execute_result"
    }
   ],
   "source": [
    "estimationError(x̂)"
   ]
  },
  {
   "cell_type": "code",
   "execution_count": 20,
   "metadata": {
    "collapsed": false
   },
   "outputs": [
    {
     "data": {
      "text/plain": [
       "2-element Array{Float64,1}:\n",
       " 1.32796 \n",
       " 0.775258"
      ]
     },
     "execution_count": 20,
     "metadata": {},
     "output_type": "execute_result"
    }
   ],
   "source": []
  },
  {
   "cell_type": "code",
   "execution_count": null,
   "metadata": {
    "collapsed": true
   },
   "outputs": [],
   "source": []
  }
 ],
 "metadata": {
  "kernelspec": {
   "display_name": "Julia 0.4.0",
   "language": "julia",
   "name": "julia-0.4"
  },
  "language_info": {
   "file_extension": ".jl",
   "mimetype": "application/julia",
   "name": "julia",
   "version": "0.4.1"
  }
 },
 "nbformat": 4,
 "nbformat_minor": 0
}
