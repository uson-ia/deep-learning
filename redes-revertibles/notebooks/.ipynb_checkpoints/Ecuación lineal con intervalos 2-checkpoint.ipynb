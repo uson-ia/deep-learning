{
 "cells": [
  {
   "cell_type": "code",
   "execution_count": 1,
   "metadata": {
    "collapsed": false
   },
   "outputs": [],
   "source": [
    "using Distributions\n",
    "σ(x) = 1.0/(1.0+exp(-x));\n",
    "ϕ(x) = -log(1.0/x -1.0);"
   ]
  },
  {
   "cell_type": "code",
   "execution_count": 8,
   "metadata": {
    "collapsed": false
   },
   "outputs": [],
   "source": [
    "# unknowns\n",
    "n = 3;\n",
    "\n",
    "# equations\n",
    "m = 2;\n",
    "\n",
    "# valid values of the unknowns\n",
    "xs = rand(n);\n",
    "\n",
    "# weights of a neural net layer\n",
    "W  = rand(Uniform(-sqrt(n+1),sqrt(n+1)), (n+1,m));\n",
    "\n",
    "# real estimation of xs flowing through the layer\n",
    "ys = map(σ, W'*[1.0;xs]);"
   ]
  },
  {
   "cell_type": "code",
   "execution_count": 24,
   "metadata": {
    "collapsed": false
   },
   "outputs": [
    {
     "data": {
      "text/plain": [
       "sendOutput (generic function with 1 method)"
      ]
     },
     "execution_count": 24,
     "metadata": {},
     "output_type": "execute_result"
    }
   ],
   "source": [
    "function sendOutput(ys, W)\n",
    "    # number of variables and equations\n",
    "    variables, equations = size(W)\n",
    "    \n",
    "    # xs are the values to be calculated (except x[1] which is 1.0)\n",
    "    xs = ones(variables)\n",
    "    # ks are the constant values in the equations\n",
    "    ks = (map(ϕ,ys).-W[1,:]')[:]\n",
    "    \n",
    "    negativeWeight = zeros(ks)\n",
    "    positiveWeight = zeros(ks)\n",
    "    for j in 1:equations\n",
    "        for i in 2:variables\n",
    "            w = W[i,j]\n",
    "            w < 0 ? negativeWeight[j] += w : positiveWeight[j] += w\n",
    "        end\n",
    "    end\n",
    "    \n",
    "    knownValues = zeros(equations)\n",
    "    for i in 2:variables\n",
    "        reciprocals = zeros(equations)\n",
    "        for j in 1:equations\n",
    "            W[i,j] < 0 ? negativeWeight[j] -= W[i,j] : positiveWeight[j] -= W[i,j]\n",
    "            reciprocals[j] = 1.0/W[i,j]\n",
    "        end\n",
    "        boundsA = (ks .- negativeWeight .- knownValues).*reciprocals\n",
    "        boundsB = (ks .- positiveWeight .- knownValues).*reciprocals\n",
    "        lowBound, highBound = narrowBounds(boundsA, boundsB)\n",
    "        println(\"xs[$i] ∈ [$lowBound,$highBound]\")\n",
    "        xs[i] = rand(Uniform(lowBound, highBound))\n",
    "        for j in 1:equations\n",
    "            knownValues[j] += xs[i]*W[i,j]\n",
    "        end\n",
    "    end\n",
    "    #xs\n",
    "end"
   ]
  },
  {
   "cell_type": "code",
   "execution_count": 26,
   "metadata": {
    "collapsed": false
   },
   "outputs": [
    {
     "name": "stdout",
     "output_type": "stream",
     "text": [
      "xs[2] ∈ [0.5960745961872798,1.0]\n"
     ]
    },
    {
     "ename": "LoadError",
     "evalue": "LoadError: ArgumentError: Uniform: the condition a < b is not satisfied.\nwhile loading In[26], in expression starting on line 1",
     "output_type": "error",
     "traceback": [
      "LoadError: ArgumentError: Uniform: the condition a < b is not satisfied.\nwhile loading In[26], in expression starting on line 1",
      "",
      " in sendOutput at In[24]:30"
     ]
    },
    {
     "name": "stdout",
     "output_type": "stream",
     "text": [
      "xs[3] ∈ [0.14030255525708601,1.0]\n",
      "xs[4] ∈ [0.5250644059125033,0.33769273034955305]\n"
     ]
    }
   ],
   "source": [
    "sendOutput(ys, W)"
   ]
  },
  {
   "cell_type": "code",
   "execution_count": 20,
   "metadata": {
    "collapsed": false
   },
   "outputs": [
    {
     "data": {
      "text/plain": [
       "narrowBounds (generic function with 1 method)"
      ]
     },
     "execution_count": 20,
     "metadata": {},
     "output_type": "execute_result"
    }
   ],
   "source": [
    "function narrowBounds(boundsA, boundsB)\n",
    "    lowBounds  = Array{Float64,1}(length(boundsA)+1)\n",
    "    highBounds = Array{Float64,1}(length(boundsB)+1)\n",
    "    lowBounds[1]  = 0.0\n",
    "    highBounds[1] = 1.0\n",
    "    for i in eachindex(boundsA)[1:end]\n",
    "        if boundsA[i] < boundsB[i]\n",
    "            lowBounds[i+1]  = boundsA[i]\n",
    "            highBounds[i+1] = boundsB[i]\n",
    "        else\n",
    "            lowBounds[i+1]  = boundsB[i]\n",
    "            highBounds[i+1] = boundsA[i]\n",
    "        end\n",
    "    end\n",
    "    (maximum(lowBounds),minimum(highBounds))\n",
    "end"
   ]
  },
  {
   "cell_type": "code",
   "execution_count": null,
   "metadata": {
    "collapsed": false
   },
   "outputs": [],
   "source": []
  },
  {
   "cell_type": "code",
   "execution_count": null,
   "metadata": {
    "collapsed": false
   },
   "outputs": [],
   "source": []
  },
  {
   "cell_type": "code",
   "execution_count": null,
   "metadata": {
    "collapsed": false
   },
   "outputs": [],
   "source": []
  },
  {
   "cell_type": "code",
   "execution_count": null,
   "metadata": {
    "collapsed": false
   },
   "outputs": [],
   "source": []
  },
  {
   "cell_type": "code",
   "execution_count": null,
   "metadata": {
    "collapsed": true
   },
   "outputs": [],
   "source": []
  },
  {
   "cell_type": "code",
   "execution_count": null,
   "metadata": {
    "collapsed": false
   },
   "outputs": [],
   "source": [
    "function sendOutput(ys, W)\n",
    "    equations = size(W)[2]\n",
    "    variables  = size(W)[1]\n",
    "    \n",
    "    xs = zeros(variables)           # Array{Float64,1}\n",
    "    ks = (map(ϕ, ys) - W[1,:]')[:]  # Array{Float64,1}\n",
    "    \n",
    "    xs[1] = 1.0                     # first entry is always 1.0\n",
    "    \n",
    "    negativeWeight = zeros(ks)\n",
    "    positiveWeight = zeros(ks)\n",
    "    for i in 1:size(W)[1]\n",
    "        for j in 1:size(W)[2]\n",
    "            w = W[i,j]\n",
    "            w < 0 ? negativeWeight[j] += w : positiveWeight[j] += w\n",
    "        end\n",
    "    end\n",
    "    \n",
    "    knownValues = zeros(ks)\n",
    "    for row in 2:variables\n",
    "        weights = W[row,:]\n",
    "        for col in eachindex(weights)\n",
    "            w = weights[col]\n",
    "            w < 0 ? negativeWeight[col] -= w : positiveWeight[col] -= w\n",
    "        end\n",
    "        reciprocals = (1.0./weights')[:]\n",
    "        boundsA = (ks .- negativeWeight .- knownValues).*reciprocals\n",
    "        boundsB = (ks .- positiveWeight .- knownValues).*reciprocals\n",
    "        lowBound, highBound = narrowBounds(boundsA, boundsB)\n",
    "        println(lowBound)\n",
    "        println(highBound)\n",
    "        println()\n",
    "        xs[row] = rand(Uniform(lowBound, highBound))\n",
    "        knownValues = knownValues .+ (xs[row] .* weights)\n",
    "    end\n",
    "    xs\n",
    "end"
   ]
  },
  {
   "cell_type": "code",
   "execution_count": null,
   "metadata": {
    "collapsed": true
   },
   "outputs": [],
   "source": []
  },
  {
   "cell_type": "code",
   "execution_count": null,
   "metadata": {
    "collapsed": true
   },
   "outputs": [],
   "source": []
  },
  {
   "cell_type": "code",
   "execution_count": null,
   "metadata": {
    "collapsed": true
   },
   "outputs": [],
   "source": []
  },
  {
   "cell_type": "code",
   "execution_count": null,
   "metadata": {
    "collapsed": true
   },
   "outputs": [],
   "source": []
  },
  {
   "cell_type": "code",
   "execution_count": null,
   "metadata": {
    "collapsed": true
   },
   "outputs": [],
   "source": []
  },
  {
   "cell_type": "code",
   "execution_count": 114,
   "metadata": {
    "collapsed": false
   },
   "outputs": [
    {
     "data": {
      "text/plain": [
       "2x3 Array{Int64,2}:\n",
       "  2  -3   5\n",
       " -1   2  -9"
      ]
     },
     "execution_count": 114,
     "metadata": {},
     "output_type": "execute_result"
    }
   ],
   "source": [
    "y = [20,-15]\n",
    "A = [2 -3 5; -1 2 -9]"
   ]
  },
  {
   "cell_type": "code",
   "execution_count": 115,
   "metadata": {
    "collapsed": false
   },
   "outputs": [
    {
     "data": {
      "text/plain": [
       "3-element Array{Float64,1}:\n",
       "  2.96296\n",
       " -3.91068\n",
       "  0.46841"
      ]
     },
     "execution_count": 115,
     "metadata": {},
     "output_type": "execute_result"
    }
   ],
   "source": [
    "pinv(A)*y"
   ]
  },
  {
   "cell_type": "code",
   "execution_count": 116,
   "metadata": {
    "collapsed": false
   },
   "outputs": [
    {
     "data": {
      "text/plain": [
       "3x3 Array{Float64,2}:\n",
       " 0.62963   0.481481   0.037037  \n",
       " 0.481481  0.368192   0.0283224 \n",
       " 0.037037  0.0283224  0.00217865"
      ]
     },
     "execution_count": 116,
     "metadata": {},
     "output_type": "execute_result"
    }
   ],
   "source": [
    "eye(size(A)[2]) - (pinv(A)*A)"
   ]
  },
  {
   "cell_type": "code",
   "execution_count": 140,
   "metadata": {
    "collapsed": false
   },
   "outputs": [
    {
     "data": {
      "text/plain": [
       "3-element Array{Float64,1}:\n",
       "  2.96296\n",
       " -3.91068\n",
       "  0.46841"
      ]
     },
     "execution_count": 140,
     "metadata": {},
     "output_type": "execute_result"
    }
   ],
   "source": [
    "x = pinv(A)*y + (eye(size(A)[2]) - pinv(A)*A)*[0,0,0]"
   ]
  },
  {
   "cell_type": "code",
   "execution_count": 139,
   "metadata": {
    "collapsed": false
   },
   "outputs": [
    {
     "data": {
      "text/plain": [
       "2-element Array{Float64,1}:\n",
       "  20.0\n",
       " -15.0"
      ]
     },
     "execution_count": 139,
     "metadata": {},
     "output_type": "execute_result"
    }
   ],
   "source": [
    "A*x"
   ]
  },
  {
   "cell_type": "code",
   "execution_count": null,
   "metadata": {
    "collapsed": true
   },
   "outputs": [],
   "source": []
  },
  {
   "cell_type": "code",
   "execution_count": null,
   "metadata": {
    "collapsed": true
   },
   "outputs": [],
   "source": []
  },
  {
   "cell_type": "code",
   "execution_count": null,
   "metadata": {
    "collapsed": true
   },
   "outputs": [],
   "source": []
  },
  {
   "cell_type": "code",
   "execution_count": 143,
   "metadata": {
    "collapsed": false
   },
   "outputs": [
    {
     "data": {
      "text/plain": [
       "3-element Array{Float64,1}:\n",
       " -2.96296\n",
       "  3.91068\n",
       " -0.46841"
      ]
     },
     "execution_count": 143,
     "metadata": {},
     "output_type": "execute_result"
    }
   ],
   "source": [
    "([0,0,0]-pinv(A)*y)"
   ]
  },
  {
   "cell_type": "code",
   "execution_count": 144,
   "metadata": {
    "collapsed": false
   },
   "outputs": [
    {
     "data": {
      "text/plain": [
       "3x3 Array{Float64,2}:\n",
       " 0.62963   0.481481   0.037037  \n",
       " 0.481481  0.368192   0.0283224 \n",
       " 0.037037  0.0283224  0.00217865"
      ]
     },
     "execution_count": 144,
     "metadata": {},
     "output_type": "execute_result"
    }
   ],
   "source": [
    "(eye(size(A)[2]) - pinv(A)*A)"
   ]
  },
  {
   "cell_type": "code",
   "execution_count": null,
   "metadata": {
    "collapsed": true
   },
   "outputs": [],
   "source": []
  },
  {
   "cell_type": "code",
   "execution_count": null,
   "metadata": {
    "collapsed": true
   },
   "outputs": [],
   "source": []
  },
  {
   "cell_type": "code",
   "execution_count": 146,
   "metadata": {
    "collapsed": false
   },
   "outputs": [
    {
     "data": {
      "text/plain": [
       "1x3 Array{Float64,2}:\n",
       " -2.70309e-16  2.47783e-16  -2.47783e-16"
      ]
     },
     "execution_count": 146,
     "metadata": {},
     "output_type": "execute_result"
    }
   ],
   "source": [
    "([0,0,0]-pinv(A)*y)\\(eye(size(A)[2]) - pinv(A)*A)"
   ]
  },
  {
   "cell_type": "code",
   "execution_count": 147,
   "metadata": {
    "collapsed": false
   },
   "outputs": [
    {
     "data": {
      "text/plain": [
       "3-element Array{Float64,1}:\n",
       " -2.70309e-16\n",
       "  2.47783e-16\n",
       " -2.47783e-16"
      ]
     },
     "execution_count": 147,
     "metadata": {},
     "output_type": "execute_result"
    }
   ],
   "source": [
    "[-2.70309e-16,  2.47783e-16,  -2.47783e-16]"
   ]
  },
  {
   "cell_type": "code",
   "execution_count": 148,
   "metadata": {
    "collapsed": false
   },
   "outputs": [
    {
     "data": {
      "text/plain": [
       "3-element Array{Float64,1}:\n",
       "  2.96296\n",
       " -3.91068\n",
       "  0.46841"
      ]
     },
     "execution_count": 148,
     "metadata": {},
     "output_type": "execute_result"
    }
   ],
   "source": [
    "x = pinv(A)*y + (eye(size(A)[2]) - pinv(A)*A)*[-2.70309e-16,2.47783e-16,-2.47783e-16]"
   ]
  },
  {
   "cell_type": "code",
   "execution_count": 149,
   "metadata": {
    "collapsed": false
   },
   "outputs": [
    {
     "data": {
      "text/plain": [
       "2-element Array{Float64,1}:\n",
       "  20.0\n",
       " -15.0"
      ]
     },
     "execution_count": 149,
     "metadata": {},
     "output_type": "execute_result"
    }
   ],
   "source": [
    "A*x"
   ]
  },
  {
   "cell_type": "code",
   "execution_count": null,
   "metadata": {
    "collapsed": true
   },
   "outputs": [],
   "source": []
  },
  {
   "cell_type": "code",
   "execution_count": 150,
   "metadata": {
    "collapsed": false
   },
   "outputs": [
    {
     "data": {
      "text/plain": [
       "1x3 Array{Float64,2}:\n",
       " 0.0406416  0.0310789  0.00239068"
      ]
     },
     "execution_count": 150,
     "metadata": {},
     "output_type": "execute_result"
    }
   ],
   "source": [
    "([1,1,1]-pinv(A)*y)\\(eye(size(A)[2]) - pinv(A)*A)"
   ]
  },
  {
   "cell_type": "code",
   "execution_count": 151,
   "metadata": {
    "collapsed": false
   },
   "outputs": [
    {
     "data": {
      "text/plain": [
       "3-element Array{Float64,1}:\n",
       "  3.0036\n",
       " -3.8796\n",
       "  0.4708"
      ]
     },
     "execution_count": 151,
     "metadata": {},
     "output_type": "execute_result"
    }
   ],
   "source": [
    "x = pinv(A)*y + (eye(size(A)[2]) - pinv(A)*A)*[0.0406416,0.0310789,0.00239068]"
   ]
  },
  {
   "cell_type": "code",
   "execution_count": 152,
   "metadata": {
    "collapsed": false
   },
   "outputs": [
    {
     "data": {
      "text/plain": [
       "2-element Array{Float64,1}:\n",
       "  20.0\n",
       " -15.0"
      ]
     },
     "execution_count": 152,
     "metadata": {},
     "output_type": "execute_result"
    }
   ],
   "source": [
    "A*x"
   ]
  },
  {
   "cell_type": "code",
   "execution_count": null,
   "metadata": {
    "collapsed": true
   },
   "outputs": [],
   "source": []
  }
 ],
 "metadata": {
  "kernelspec": {
   "display_name": "Julia 0.4.0",
   "language": "julia",
   "name": "julia-0.4"
  },
  "language_info": {
   "file_extension": ".jl",
   "mimetype": "application/julia",
   "name": "julia",
   "version": "0.4.0"
  }
 },
 "nbformat": 4,
 "nbformat_minor": 0
}
