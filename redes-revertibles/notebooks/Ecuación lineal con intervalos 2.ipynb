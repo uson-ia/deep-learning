{
 "cells": [
  {
   "cell_type": "code",
   "execution_count": 1,
   "metadata": {
    "collapsed": false
   },
   "outputs": [],
   "source": [
    "using Distributions\n",
    "σ(x) = 1.0/(1.0+exp(-x));\n",
    "ϕ(x) = -log(1.0/x -1.0);"
   ]
  },
  {
   "cell_type": "code",
   "execution_count": null,
   "metadata": {
    "collapsed": false
   },
   "outputs": [],
   "source": [
    "# unknowns\n",
    "n = 3;\n",
    "\n",
    "# equations\n",
    "m = 2;\n",
    "\n",
    "# valid values of the unknowns\n",
    "xs = rand(n);\n",
    "\n",
    "# weights of a neural net layer\n",
    "W  = rand(Uniform(-sqrt(n+1),sqrt(n+1)), (n+1,m));\n",
    "\n",
    "# real estimation of xs flowing through the layer\n",
    "ys = map(σ, W'*[1.0;xs]);"
   ]
  },
  {
   "cell_type": "code",
   "execution_count": null,
   "metadata": {
    "collapsed": false
   },
   "outputs": [],
   "source": [
    "function narrowBounds(boundsA, boundsB)\n",
    "    lowBounds  = Array{Float64,1}(length(boundsA)+1)\n",
    "    highBounds = Array{Float64,1}(length(boundsB)+1)\n",
    "    lowBounds[1]  = 0.0\n",
    "    highBounds[1] = 1.0\n",
    "    for i in eachindex(boundsA)[1:end]\n",
    "        if boundsA[i] < boundsB[i]\n",
    "            lowBounds[i+1]  = boundsA[i]\n",
    "            highBounds[i+1] = boundsB[i]\n",
    "        else\n",
    "            lowBounds[i+1]  = boundsB[i]\n",
    "            highBounds[i+1] = boundsA[i]\n",
    "        end\n",
    "    end\n",
    "    (maximum(lowBounds),minimum(highBounds))\n",
    "end"
   ]
  },
  {
   "cell_type": "code",
   "execution_count": null,
   "metadata": {
    "collapsed": false
   },
   "outputs": [],
   "source": [
    "function nextInterval(ys, W, B)\n",
    "    variables, equations = size(W)\n",
    "end"
   ]
  },
  {
   "cell_type": "code",
   "execution_count": null,
   "metadata": {
    "collapsed": false
   },
   "outputs": [],
   "source": [
    "function sendOutput(ys, W)\n",
    "    # number of variables and equations\n",
    "    variables, equations = size(W)\n",
    "    \n",
    "    # xs are the values to be calculated (except x[1] which is 1.0)\n",
    "    xs = ones(variables)\n",
    "    # ks are the constant values in the equations\n",
    "    ks = (map(ϕ,ys).-W[1,:]')[:]\n",
    "    \n",
    "    negativeWeight = zeros(ks)\n",
    "    positiveWeight = zeros(ks)\n",
    "    for j in 1:equations\n",
    "        for i in 2:variables\n",
    "            w = W[i,j]\n",
    "            w < 0 ? negativeWeight[j] += w : positiveWeight[j] += w\n",
    "        end\n",
    "    end\n",
    "    \n",
    "    knownValues = zeros(equations)\n",
    "    for i in 2:variables\n",
    "        reciprocals = zeros(equations)\n",
    "        for j in 1:equations\n",
    "            W[i,j] < 0 ? negativeWeight[j] -= W[i,j] : positiveWeight[j] -= W[i,j]\n",
    "            reciprocals[j] = 1.0/W[i,j]\n",
    "        end\n",
    "        boundsA = (ks .- negativeWeight .- knownValues).*reciprocals\n",
    "        boundsB = (ks .- positiveWeight .- knownValues).*reciprocals\n",
    "        lowBound, highBound = narrowBounds(boundsA, boundsB)\n",
    "        println(\"xs[$i] ∈ [$lowBound,$highBound]\")\n",
    "        xs[i] = rand(Uniform(lowBound, highBound))\n",
    "        for j in 1:equations\n",
    "            knownValues[j] += xs[i]*W[i,j]\n",
    "        end\n",
    "    end\n",
    "    xs\n",
    "end"
   ]
  },
  {
   "cell_type": "code",
   "execution_count": null,
   "metadata": {
    "collapsed": false
   },
   "outputs": [],
   "source": [
    "sendOutput(ys, W)"
   ]
  },
  {
   "cell_type": "code",
   "execution_count": null,
   "metadata": {
    "collapsed": false
   },
   "outputs": [],
   "source": []
  },
  {
   "cell_type": "code",
   "execution_count": null,
   "metadata": {
    "collapsed": false
   },
   "outputs": [],
   "source": []
  },
  {
   "cell_type": "code",
   "execution_count": null,
   "metadata": {
    "collapsed": false
   },
   "outputs": [],
   "source": []
  },
  {
   "cell_type": "code",
   "execution_count": null,
   "metadata": {
    "collapsed": false
   },
   "outputs": [],
   "source": []
  },
  {
   "cell_type": "code",
   "execution_count": null,
   "metadata": {
    "collapsed": true
   },
   "outputs": [],
   "source": []
  },
  {
   "cell_type": "code",
   "execution_count": null,
   "metadata": {
    "collapsed": false
   },
   "outputs": [],
   "source": [
    "function sendOutput(ys, W)\n",
    "    equations = size(W)[2]\n",
    "    variables  = size(W)[1]\n",
    "    \n",
    "    xs = zeros(variables)           # Array{Float64,1}\n",
    "    ks = (map(ϕ, ys) - W[1,:]')[:]  # Array{Float64,1}\n",
    "    \n",
    "    xs[1] = 1.0                     # first entry is always 1.0\n",
    "    \n",
    "    negativeWeight = zeros(ks)\n",
    "    positiveWeight = zeros(ks)\n",
    "    for i in 1:size(W)[1]\n",
    "        for j in 1:size(W)[2]\n",
    "            w = W[i,j]\n",
    "            w < 0 ? negativeWeight[j] += w : positiveWeight[j] += w\n",
    "        end\n",
    "    end\n",
    "    \n",
    "    knownValues = zeros(ks)\n",
    "    for row in 2:variables\n",
    "        weights = W[row,:]\n",
    "        for col in eachindex(weights)\n",
    "            w = weights[col]\n",
    "            w < 0 ? negativeWeight[col] -= w : positiveWeight[col] -= w\n",
    "        end\n",
    "        reciprocals = (1.0./weights')[:]\n",
    "        boundsA = (ks .- negativeWeight .- knownValues).*reciprocals\n",
    "        boundsB = (ks .- positiveWeight .- knownValues).*reciprocals\n",
    "        lowBound, highBound = narrowBounds(boundsA, boundsB)\n",
    "        println(lowBound)\n",
    "        println(highBound)\n",
    "        println()\n",
    "        xs[row] = rand(Uniform(lowBound, highBound))\n",
    "        knownValues = knownValues .+ (xs[row] .* weights)\n",
    "    end\n",
    "    xs\n",
    "end"
   ]
  },
  {
   "cell_type": "code",
   "execution_count": null,
   "metadata": {
    "collapsed": true
   },
   "outputs": [],
   "source": []
  },
  {
   "cell_type": "code",
   "execution_count": null,
   "metadata": {
    "collapsed": true
   },
   "outputs": [],
   "source": []
  },
  {
   "cell_type": "code",
   "execution_count": null,
   "metadata": {
    "collapsed": true
   },
   "outputs": [],
   "source": []
  },
  {
   "cell_type": "code",
   "execution_count": null,
   "metadata": {
    "collapsed": true
   },
   "outputs": [],
   "source": []
  },
  {
   "cell_type": "code",
   "execution_count": null,
   "metadata": {
    "collapsed": true
   },
   "outputs": [],
   "source": []
  },
  {
   "cell_type": "code",
   "execution_count": null,
   "metadata": {
    "collapsed": false
   },
   "outputs": [],
   "source": [
    "y = [20,-15]\n",
    "A = [2 -3 5; -1 2 -9]"
   ]
  },
  {
   "cell_type": "code",
   "execution_count": null,
   "metadata": {
    "collapsed": false
   },
   "outputs": [],
   "source": [
    "pinv(A)*y"
   ]
  },
  {
   "cell_type": "code",
   "execution_count": null,
   "metadata": {
    "collapsed": false
   },
   "outputs": [],
   "source": [
    "eye(size(A)[2]) - (pinv(A)*A)"
   ]
  },
  {
   "cell_type": "code",
   "execution_count": null,
   "metadata": {
    "collapsed": false
   },
   "outputs": [],
   "source": [
    "x = pinv(A)*y + (eye(size(A)[2]) - pinv(A)*A)*[0,0,0]"
   ]
  },
  {
   "cell_type": "code",
   "execution_count": null,
   "metadata": {
    "collapsed": false
   },
   "outputs": [],
   "source": [
    "A*x"
   ]
  },
  {
   "cell_type": "code",
   "execution_count": null,
   "metadata": {
    "collapsed": true
   },
   "outputs": [],
   "source": []
  },
  {
   "cell_type": "code",
   "execution_count": null,
   "metadata": {
    "collapsed": true
   },
   "outputs": [],
   "source": []
  },
  {
   "cell_type": "code",
   "execution_count": null,
   "metadata": {
    "collapsed": true
   },
   "outputs": [],
   "source": []
  },
  {
   "cell_type": "code",
   "execution_count": null,
   "metadata": {
    "collapsed": false
   },
   "outputs": [],
   "source": [
    "([0,0,0]-pinv(A)*y)"
   ]
  },
  {
   "cell_type": "code",
   "execution_count": null,
   "metadata": {
    "collapsed": false
   },
   "outputs": [],
   "source": [
    "(eye(size(A)[2]) - pinv(A)*A)"
   ]
  },
  {
   "cell_type": "code",
   "execution_count": null,
   "metadata": {
    "collapsed": true
   },
   "outputs": [],
   "source": []
  },
  {
   "cell_type": "code",
   "execution_count": null,
   "metadata": {
    "collapsed": true
   },
   "outputs": [],
   "source": []
  },
  {
   "cell_type": "code",
   "execution_count": null,
   "metadata": {
    "collapsed": false
   },
   "outputs": [],
   "source": [
    "([0,0,0]-pinv(A)*y)\\(eye(size(A)[2]) - pinv(A)*A)"
   ]
  },
  {
   "cell_type": "code",
   "execution_count": null,
   "metadata": {
    "collapsed": false
   },
   "outputs": [],
   "source": [
    "[-2.70309e-16,  2.47783e-16,  -2.47783e-16]"
   ]
  },
  {
   "cell_type": "code",
   "execution_count": null,
   "metadata": {
    "collapsed": false
   },
   "outputs": [],
   "source": [
    "x = pinv(A)*y + (eye(size(A)[2]) - pinv(A)*A)*[-2.70309e-16,2.47783e-16,-2.47783e-16]"
   ]
  },
  {
   "cell_type": "code",
   "execution_count": null,
   "metadata": {
    "collapsed": false
   },
   "outputs": [],
   "source": [
    "A*x"
   ]
  },
  {
   "cell_type": "code",
   "execution_count": null,
   "metadata": {
    "collapsed": true
   },
   "outputs": [],
   "source": []
  },
  {
   "cell_type": "code",
   "execution_count": null,
   "metadata": {
    "collapsed": false
   },
   "outputs": [],
   "source": [
    "([1,1,1]-pinv(A)*y)\\(eye(size(A)[2]) - pinv(A)*A)"
   ]
  },
  {
   "cell_type": "code",
   "execution_count": null,
   "metadata": {
    "collapsed": false
   },
   "outputs": [],
   "source": [
    "x = pinv(A)*y + (eye(size(A)[2]) - pinv(A)*A)*[0.0406416,0.0310789,0.00239068]"
   ]
  },
  {
   "cell_type": "code",
   "execution_count": null,
   "metadata": {
    "collapsed": false
   },
   "outputs": [],
   "source": [
    "A*x"
   ]
  },
  {
   "cell_type": "code",
   "execution_count": null,
   "metadata": {
    "collapsed": false
   },
   "outputs": [],
   "source": [
    "y\\A"
   ]
  },
  {
   "cell_type": "code",
   "execution_count": null,
   "metadata": {
    "collapsed": true
   },
   "outputs": [],
   "source": []
  },
  {
   "cell_type": "code",
   "execution_count": null,
   "metadata": {
    "collapsed": true
   },
   "outputs": [],
   "source": []
  },
  {
   "cell_type": "code",
   "execution_count": null,
   "metadata": {
    "collapsed": true
   },
   "outputs": [],
   "source": []
  },
  {
   "cell_type": "code",
   "execution_count": null,
   "metadata": {
    "collapsed": true
   },
   "outputs": [],
   "source": []
  },
  {
   "cell_type": "code",
   "execution_count": null,
   "metadata": {
    "collapsed": true
   },
   "outputs": [],
   "source": []
  },
  {
   "cell_type": "code",
   "execution_count": null,
   "metadata": {
    "collapsed": true
   },
   "outputs": [],
   "source": []
  },
  {
   "cell_type": "code",
   "execution_count": null,
   "metadata": {
    "collapsed": true
   },
   "outputs": [],
   "source": []
  },
  {
   "cell_type": "code",
   "execution_count": null,
   "metadata": {
    "collapsed": true
   },
   "outputs": [],
   "source": []
  },
  {
   "cell_type": "code",
   "execution_count": null,
   "metadata": {
    "collapsed": true
   },
   "outputs": [],
   "source": []
  },
  {
   "cell_type": "code",
   "execution_count": null,
   "metadata": {
    "collapsed": true
   },
   "outputs": [],
   "source": []
  },
  {
   "cell_type": "code",
   "execution_count": null,
   "metadata": {
    "collapsed": true
   },
   "outputs": [],
   "source": []
  },
  {
   "cell_type": "code",
   "execution_count": null,
   "metadata": {
    "collapsed": true
   },
   "outputs": [],
   "source": []
  },
  {
   "cell_type": "code",
   "execution_count": null,
   "metadata": {
    "collapsed": true
   },
   "outputs": [],
   "source": []
  },
  {
   "cell_type": "code",
   "execution_count": null,
   "metadata": {
    "collapsed": true
   },
   "outputs": [],
   "source": []
  },
  {
   "cell_type": "code",
   "execution_count": null,
   "metadata": {
    "collapsed": true
   },
   "outputs": [],
   "source": []
  },
  {
   "cell_type": "code",
   "execution_count": 2,
   "metadata": {
    "collapsed": false
   },
   "outputs": [],
   "source": [
    "###\n",
    "### Planteamiento del problema como red neuronal\n",
    "###\n",
    "\n",
    "# unknowns\n",
    "n = 3;\n",
    "\n",
    "# equations\n",
    "m = 2;\n",
    "\n",
    "# valid values of the unknowns\n",
    "xs = rand(n);\n",
    "\n",
    "# weights of a neural net layer\n",
    "W  = rand(Uniform(-sqrt(n+1),sqrt(n+1)), (n+1,m));\n",
    "\n",
    "# real estimation of xs flowing through the layer\n",
    "ys = map(σ, W'*[1.0;xs]);\n",
    ";\n",
    "# Conociendo W y ys, encontrar xs que cumplan ys = map(σ, W'*[1.0;xs])"
   ]
  },
  {
   "cell_type": "code",
   "execution_count": 3,
   "metadata": {
    "collapsed": false
   },
   "outputs": [],
   "source": [
    "###\n",
    "### Planteamiento del problema como álgebra lineal\n",
    "###\n",
    "\n",
    "A = W'[:,2:end];\n",
    "b = ys-W'[:,1]\n",
    ";\n",
    "# Encontrar z tal que Az = b"
   ]
  },
  {
   "cell_type": "code",
   "execution_count": 4,
   "metadata": {
    "collapsed": false
   },
   "outputs": [
    {
     "data": {
      "text/plain": [
       "2x3 Array{Float64,2}:\n",
       " -0.968031   1.96318   -1.04327 \n",
       "  1.6666    -0.190253   0.818914"
      ]
     },
     "execution_count": 4,
     "metadata": {},
     "output_type": "execute_result"
    }
   ],
   "source": [
    "A"
   ]
  },
  {
   "cell_type": "code",
   "execution_count": 5,
   "metadata": {
    "collapsed": false
   },
   "outputs": [
    {
     "data": {
      "text/plain": [
       "2-element Array{Float64,1}:\n",
       "  1.02539 \n",
       " -0.189963"
      ]
     },
     "execution_count": 5,
     "metadata": {},
     "output_type": "execute_result"
    }
   ],
   "source": [
    "b"
   ]
  },
  {
   "cell_type": "code",
   "execution_count": 37,
   "metadata": {
    "collapsed": false
   },
   "outputs": [
    {
     "data": {
      "text/plain": [
       "3x2 Array{Float64,2}:\n",
       "  0.10972   0.567773\n",
       "  0.507469  0.359189\n",
       " -0.105399  0.149082"
      ]
     },
     "execution_count": 37,
     "metadata": {},
     "output_type": "execute_result"
    }
   ],
   "source": [
    "pinv(A)"
   ]
  },
  {
   "cell_type": "code",
   "execution_count": 35,
   "metadata": {
    "collapsed": false
   },
   "outputs": [
    {
     "data": {
      "text/plain": [
       "3-element Array{Float64,1}:\n",
       "  0.644495 \n",
       "  0.0226016\n",
       " -1.53835  "
      ]
     },
     "execution_count": 35,
     "metadata": {},
     "output_type": "execute_result"
    }
   ],
   "source": [
    "x = pinv(A)*b + (eye(size(A)[2]) - pinv(A)*A)*[4,0,0]"
   ]
  },
  {
   "cell_type": "code",
   "execution_count": 36,
   "metadata": {
    "collapsed": false
   },
   "outputs": [
    {
     "data": {
      "text/plain": [
       "2-element BitArray{1}:\n",
       " true\n",
       " true"
      ]
     },
     "execution_count": 36,
     "metadata": {},
     "output_type": "execute_result"
    }
   ],
   "source": [
    "abs(A*x-b.-0) .< 1e-5"
   ]
  },
  {
   "cell_type": "code",
   "execution_count": null,
   "metadata": {
    "collapsed": true
   },
   "outputs": [],
   "source": []
  },
  {
   "cell_type": "code",
   "execution_count": 9,
   "metadata": {
    "collapsed": false
   },
   "outputs": [
    {
     "data": {
      "text/plain": [
       "3x3 Array{Float64,2}:\n",
       "  0.159961  -0.10738    -0.35049 \n",
       " -0.10738    0.0720831   0.23528 \n",
       " -0.35049    0.23528     0.767956"
      ]
     },
     "execution_count": 9,
     "metadata": {},
     "output_type": "execute_result"
    }
   ],
   "source": [
    "eye(size(A)[2]) - pinv(A)*A"
   ]
  },
  {
   "cell_type": "code",
   "execution_count": null,
   "metadata": {
    "collapsed": true
   },
   "outputs": [],
   "source": []
  },
  {
   "cell_type": "code",
   "execution_count": null,
   "metadata": {
    "collapsed": true
   },
   "outputs": [],
   "source": []
  },
  {
   "cell_type": "code",
   "execution_count": null,
   "metadata": {
    "collapsed": true
   },
   "outputs": [],
   "source": []
  },
  {
   "cell_type": "code",
   "execution_count": null,
   "metadata": {
    "collapsed": true
   },
   "outputs": [],
   "source": []
  },
  {
   "cell_type": "code",
   "execution_count": null,
   "metadata": {
    "collapsed": true
   },
   "outputs": [],
   "source": []
  },
  {
   "cell_type": "code",
   "execution_count": null,
   "metadata": {
    "collapsed": true
   },
   "outputs": [],
   "source": []
  },
  {
   "cell_type": "code",
   "execution_count": null,
   "metadata": {
    "collapsed": true
   },
   "outputs": [],
   "source": []
  },
  {
   "cell_type": "code",
   "execution_count": null,
   "metadata": {
    "collapsed": true
   },
   "outputs": [],
   "source": []
  },
  {
   "cell_type": "code",
   "execution_count": null,
   "metadata": {
    "collapsed": true
   },
   "outputs": [],
   "source": []
  },
  {
   "cell_type": "code",
   "execution_count": null,
   "metadata": {
    "collapsed": true
   },
   "outputs": [],
   "source": []
  },
  {
   "cell_type": "code",
   "execution_count": 23,
   "metadata": {
    "collapsed": false
   },
   "outputs": [
    {
     "data": {
      "text/plain": [
       "2x4 Array{Float64,2}:\n",
       " 1.0  0.0   0.456393  -0.0575992\n",
       " 0.0  1.0  -0.306372   0.49391  "
      ]
     },
     "execution_count": 23,
     "metadata": {},
     "output_type": "execute_result"
    }
   ],
   "source": [
    "rref([A b])"
   ]
  },
  {
   "cell_type": "code",
   "execution_count": 22,
   "metadata": {
    "collapsed": false
   },
   "outputs": [
    {
     "data": {
      "text/plain": [
       "rref (generic function with 1 method)"
      ]
     },
     "execution_count": 22,
     "metadata": {},
     "output_type": "execute_result"
    }
   ],
   "source": [
    "function rref{T}(A::Matrix{T})\n",
    "    nr, nc = size(A)\n",
    "    U = copy!(similar(A, T <: Complex ? Complex128 : Float64), A)\n",
    "    e = eps(norm(U,Inf))\n",
    "    i = j = 1\n",
    "    while i <= nr && j <= nc\n",
    "        (m, mi) = findmax(abs(U[i:nr,j]))\n",
    "        mi = mi+i - 1\n",
    "        if m <= e\n",
    "            U[i:nr,j] = 0\n",
    "            j += 1\n",
    "        else\n",
    "            for k=j:nc\n",
    "                U[i, k], U[mi, k] = U[mi, k], U[i, k]\n",
    "            end\n",
    "            d = U[i,j]\n",
    "            for k = j:nc\n",
    "                U[i,k] /= d\n",
    "            end\n",
    "            for k = 1:nr\n",
    "                if k != i\n",
    "                    d = U[k,j]\n",
    "                    for l = j:nc\n",
    "                        U[k,l] -= d*U[i,l]\n",
    "                    end\n",
    "                end\n",
    "            end\n",
    "            i += 1\n",
    "            j += 1\n",
    "        end\n",
    "    end\n",
    "    U\n",
    "end"
   ]
  },
  {
   "cell_type": "code",
   "execution_count": 34,
   "metadata": {
    "collapsed": false
   },
   "outputs": [
    {
     "name": "stdout",
     "output_type": "stream",
     "text": [
      "[-0.8331924184620049 0.5529831767942276\n",
      " 0.5529831767942275 0.8331924184620045]\n",
      "\n",
      "[2.7866176129663307,1.2644041761461542]\n",
      "\n",
      "[0.6201638826306439 0.6748596893819094\n",
      " -0.6247414564758897 0.733222364931946\n",
      " 0.47444164155443747 0.08336284070829612]\n"
     ]
    }
   ],
   "source": [
    "let FGH = svd(A),\n",
    "    F = FGH[1],\n",
    "    G = FGH[2],\n",
    "    H = FGH[3]\n",
    "    \n",
    "    println(F)\n",
    "    println()\n",
    "    println(G)\n",
    "    println()\n",
    "    println(H)\n",
    "end"
   ]
  },
  {
   "cell_type": "code",
   "execution_count": null,
   "metadata": {
    "collapsed": true
   },
   "outputs": [],
   "source": []
  }
 ],
 "metadata": {
  "kernelspec": {
   "display_name": "Julia 0.4.0",
   "language": "julia",
   "name": "julia-0.4"
  },
  "language_info": {
   "file_extension": ".jl",
   "mimetype": "application/julia",
   "name": "julia",
   "version": "0.4.0"
  }
 },
 "nbformat": 4,
 "nbformat_minor": 0
}
