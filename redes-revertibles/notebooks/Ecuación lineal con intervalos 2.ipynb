{
 "cells": [
  {
   "cell_type": "code",
   "execution_count": 2,
   "metadata": {
    "collapsed": false
   },
   "outputs": [],
   "source": [
    "using Distributions\n",
    "σ(x) = 1.0/(1.0+exp(-x));\n",
    "ϕ(x) = -log(1.0/x -1.0);"
   ]
  },
  {
   "cell_type": "code",
   "execution_count": null,
   "metadata": {
    "collapsed": false
   },
   "outputs": [],
   "source": [
    "# unknowns\n",
    "n = 3;\n",
    "\n",
    "# equations\n",
    "m = 2;\n",
    "\n",
    "# valid values of the unknowns\n",
    "xs = rand(n);\n",
    "\n",
    "# weights of a neural net layer\n",
    "W  = rand(Uniform(-sqrt(n+1),sqrt(n+1)), (n+1,m));\n",
    "\n",
    "# real estimation of xs flowing through the layer\n",
    "ys = map(σ, W'*[1.0;xs]);"
   ]
  },
  {
   "cell_type": "code",
   "execution_count": null,
   "metadata": {
    "collapsed": false
   },
   "outputs": [],
   "source": [
    "function narrowBounds(boundsA, boundsB)\n",
    "    lowBounds  = Array{Float64,1}(length(boundsA)+1)\n",
    "    highBounds = Array{Float64,1}(length(boundsB)+1)\n",
    "    lowBounds[1]  = 0.0\n",
    "    highBounds[1] = 1.0\n",
    "    for i in eachindex(boundsA)[1:end]\n",
    "        if boundsA[i] < boundsB[i]\n",
    "            lowBounds[i+1]  = boundsA[i]\n",
    "            highBounds[i+1] = boundsB[i]\n",
    "        else\n",
    "            lowBounds[i+1]  = boundsB[i]\n",
    "            highBounds[i+1] = boundsA[i]\n",
    "        end\n",
    "    end\n",
    "    (maximum(lowBounds),minimum(highBounds))\n",
    "end"
   ]
  },
  {
   "cell_type": "code",
   "execution_count": null,
   "metadata": {
    "collapsed": false
   },
   "outputs": [],
   "source": [
    "function nextInterval(ys, W, B)\n",
    "    variables, equations = size(W)\n",
    "end"
   ]
  },
  {
   "cell_type": "code",
   "execution_count": null,
   "metadata": {
    "collapsed": false
   },
   "outputs": [],
   "source": [
    "function sendOutput(ys, W)\n",
    "    # number of variables and equations\n",
    "    variables, equations = size(W)\n",
    "    \n",
    "    # xs are the values to be calculated (except x[1] which is 1.0)\n",
    "    xs = ones(variables)\n",
    "    # ks are the constant values in the equations\n",
    "    ks = (map(ϕ,ys).-W[1,:]')[:]\n",
    "    \n",
    "    negativeWeight = zeros(ks)\n",
    "    positiveWeight = zeros(ks)\n",
    "    for j in 1:equations\n",
    "        for i in 2:variables\n",
    "            w = W[i,j]\n",
    "            w < 0 ? negativeWeight[j] += w : positiveWeight[j] += w\n",
    "        end\n",
    "    end\n",
    "    \n",
    "    knownValues = zeros(equations)\n",
    "    for i in 2:variables\n",
    "        reciprocals = zeros(equations)\n",
    "        for j in 1:equations\n",
    "            W[i,j] < 0 ? negativeWeight[j] -= W[i,j] : positiveWeight[j] -= W[i,j]\n",
    "            reciprocals[j] = 1.0/W[i,j]\n",
    "        end\n",
    "        boundsA = (ks .- negativeWeight .- knownValues).*reciprocals\n",
    "        boundsB = (ks .- positiveWeight .- knownValues).*reciprocals\n",
    "        lowBound, highBound = narrowBounds(boundsA, boundsB)\n",
    "        println(\"xs[$i] ∈ [$lowBound,$highBound]\")\n",
    "        xs[i] = rand(Uniform(lowBound, highBound))\n",
    "        for j in 1:equations\n",
    "            knownValues[j] += xs[i]*W[i,j]\n",
    "        end\n",
    "    end\n",
    "    xs\n",
    "end"
   ]
  },
  {
   "cell_type": "code",
   "execution_count": null,
   "metadata": {
    "collapsed": false
   },
   "outputs": [],
   "source": [
    "sendOutput(ys, W)"
   ]
  },
  {
   "cell_type": "code",
   "execution_count": null,
   "metadata": {
    "collapsed": false
   },
   "outputs": [],
   "source": []
  },
  {
   "cell_type": "code",
   "execution_count": null,
   "metadata": {
    "collapsed": false
   },
   "outputs": [],
   "source": []
  },
  {
   "cell_type": "code",
   "execution_count": null,
   "metadata": {
    "collapsed": false
   },
   "outputs": [],
   "source": []
  },
  {
   "cell_type": "code",
   "execution_count": null,
   "metadata": {
    "collapsed": false
   },
   "outputs": [],
   "source": []
  },
  {
   "cell_type": "code",
   "execution_count": null,
   "metadata": {
    "collapsed": true
   },
   "outputs": [],
   "source": []
  },
  {
   "cell_type": "code",
   "execution_count": null,
   "metadata": {
    "collapsed": false
   },
   "outputs": [],
   "source": [
    "function sendOutput(ys, W)\n",
    "    equations = size(W)[2]\n",
    "    variables  = size(W)[1]\n",
    "    \n",
    "    xs = zeros(variables)           # Array{Float64,1}\n",
    "    ks = (map(ϕ, ys) - W[1,:]')[:]  # Array{Float64,1}\n",
    "    \n",
    "    xs[1] = 1.0                     # first entry is always 1.0\n",
    "    \n",
    "    negativeWeight = zeros(ks)\n",
    "    positiveWeight = zeros(ks)\n",
    "    for i in 1:size(W)[1]\n",
    "        for j in 1:size(W)[2]\n",
    "            w = W[i,j]\n",
    "            w < 0 ? negativeWeight[j] += w : positiveWeight[j] += w\n",
    "        end\n",
    "    end\n",
    "    \n",
    "    knownValues = zeros(ks)\n",
    "    for row in 2:variables\n",
    "        weights = W[row,:]\n",
    "        for col in eachindex(weights)\n",
    "            w = weights[col]\n",
    "            w < 0 ? negativeWeight[col] -= w : positiveWeight[col] -= w\n",
    "        end\n",
    "        reciprocals = (1.0./weights')[:]\n",
    "        boundsA = (ks .- negativeWeight .- knownValues).*reciprocals\n",
    "        boundsB = (ks .- positiveWeight .- knownValues).*reciprocals\n",
    "        lowBound, highBound = narrowBounds(boundsA, boundsB)\n",
    "        println(lowBound)\n",
    "        println(highBound)\n",
    "        println()\n",
    "        xs[row] = rand(Uniform(lowBound, highBound))\n",
    "        knownValues = knownValues .+ (xs[row] .* weights)\n",
    "    end\n",
    "    xs\n",
    "end"
   ]
  },
  {
   "cell_type": "code",
   "execution_count": null,
   "metadata": {
    "collapsed": true
   },
   "outputs": [],
   "source": []
  },
  {
   "cell_type": "code",
   "execution_count": null,
   "metadata": {
    "collapsed": true
   },
   "outputs": [],
   "source": []
  },
  {
   "cell_type": "code",
   "execution_count": null,
   "metadata": {
    "collapsed": true
   },
   "outputs": [],
   "source": []
  },
  {
   "cell_type": "code",
   "execution_count": null,
   "metadata": {
    "collapsed": true
   },
   "outputs": [],
   "source": []
  },
  {
   "cell_type": "code",
   "execution_count": null,
   "metadata": {
    "collapsed": true
   },
   "outputs": [],
   "source": []
  },
  {
   "cell_type": "code",
   "execution_count": null,
   "metadata": {
    "collapsed": false
   },
   "outputs": [],
   "source": [
    "y = [20,-15]\n",
    "A = [2 -3 5; -1 2 -9]"
   ]
  },
  {
   "cell_type": "code",
   "execution_count": null,
   "metadata": {
    "collapsed": false
   },
   "outputs": [],
   "source": [
    "pinv(A)*y"
   ]
  },
  {
   "cell_type": "code",
   "execution_count": null,
   "metadata": {
    "collapsed": false
   },
   "outputs": [],
   "source": [
    "eye(size(A)[2]) - (pinv(A)*A)"
   ]
  },
  {
   "cell_type": "code",
   "execution_count": null,
   "metadata": {
    "collapsed": false
   },
   "outputs": [],
   "source": [
    "x = pinv(A)*y + (eye(size(A)[2]) - pinv(A)*A)*[0,0,0]"
   ]
  },
  {
   "cell_type": "code",
   "execution_count": null,
   "metadata": {
    "collapsed": false
   },
   "outputs": [],
   "source": [
    "A*x"
   ]
  },
  {
   "cell_type": "code",
   "execution_count": null,
   "metadata": {
    "collapsed": true
   },
   "outputs": [],
   "source": []
  },
  {
   "cell_type": "code",
   "execution_count": null,
   "metadata": {
    "collapsed": true
   },
   "outputs": [],
   "source": []
  },
  {
   "cell_type": "code",
   "execution_count": null,
   "metadata": {
    "collapsed": true
   },
   "outputs": [],
   "source": []
  },
  {
   "cell_type": "code",
   "execution_count": null,
   "metadata": {
    "collapsed": false
   },
   "outputs": [],
   "source": [
    "([0,0,0]-pinv(A)*y)"
   ]
  },
  {
   "cell_type": "code",
   "execution_count": null,
   "metadata": {
    "collapsed": false
   },
   "outputs": [],
   "source": [
    "(eye(size(A)[2]) - pinv(A)*A)"
   ]
  },
  {
   "cell_type": "code",
   "execution_count": null,
   "metadata": {
    "collapsed": true
   },
   "outputs": [],
   "source": []
  },
  {
   "cell_type": "code",
   "execution_count": null,
   "metadata": {
    "collapsed": true
   },
   "outputs": [],
   "source": []
  },
  {
   "cell_type": "code",
   "execution_count": null,
   "metadata": {
    "collapsed": false
   },
   "outputs": [],
   "source": [
    "([0,0,0]-pinv(A)*y)\\(eye(size(A)[2]) - pinv(A)*A)"
   ]
  },
  {
   "cell_type": "code",
   "execution_count": null,
   "metadata": {
    "collapsed": false
   },
   "outputs": [],
   "source": [
    "[-2.70309e-16,  2.47783e-16,  -2.47783e-16]"
   ]
  },
  {
   "cell_type": "code",
   "execution_count": null,
   "metadata": {
    "collapsed": false
   },
   "outputs": [],
   "source": [
    "x = pinv(A)*y + (eye(size(A)[2]) - pinv(A)*A)*[-2.70309e-16,2.47783e-16,-2.47783e-16]"
   ]
  },
  {
   "cell_type": "code",
   "execution_count": null,
   "metadata": {
    "collapsed": false
   },
   "outputs": [],
   "source": [
    "A*x"
   ]
  },
  {
   "cell_type": "code",
   "execution_count": null,
   "metadata": {
    "collapsed": true
   },
   "outputs": [],
   "source": []
  },
  {
   "cell_type": "code",
   "execution_count": null,
   "metadata": {
    "collapsed": false
   },
   "outputs": [],
   "source": [
    "([1,1,1]-pinv(A)*y)\\(eye(size(A)[2]) - pinv(A)*A)"
   ]
  },
  {
   "cell_type": "code",
   "execution_count": null,
   "metadata": {
    "collapsed": false
   },
   "outputs": [],
   "source": [
    "x = pinv(A)*y + (eye(size(A)[2]) - pinv(A)*A)*[0.0406416,0.0310789,0.00239068]"
   ]
  },
  {
   "cell_type": "code",
   "execution_count": null,
   "metadata": {
    "collapsed": false
   },
   "outputs": [],
   "source": [
    "A*x"
   ]
  },
  {
   "cell_type": "code",
   "execution_count": null,
   "metadata": {
    "collapsed": false
   },
   "outputs": [],
   "source": [
    "y\\A"
   ]
  },
  {
   "cell_type": "code",
   "execution_count": null,
   "metadata": {
    "collapsed": true
   },
   "outputs": [],
   "source": []
  },
  {
   "cell_type": "code",
   "execution_count": null,
   "metadata": {
    "collapsed": true
   },
   "outputs": [],
   "source": []
  },
  {
   "cell_type": "code",
   "execution_count": null,
   "metadata": {
    "collapsed": true
   },
   "outputs": [],
   "source": []
  },
  {
   "cell_type": "code",
   "execution_count": null,
   "metadata": {
    "collapsed": true
   },
   "outputs": [],
   "source": []
  },
  {
   "cell_type": "code",
   "execution_count": null,
   "metadata": {
    "collapsed": true
   },
   "outputs": [],
   "source": []
  },
  {
   "cell_type": "code",
   "execution_count": null,
   "metadata": {
    "collapsed": true
   },
   "outputs": [],
   "source": []
  },
  {
   "cell_type": "code",
   "execution_count": null,
   "metadata": {
    "collapsed": true
   },
   "outputs": [],
   "source": []
  },
  {
   "cell_type": "code",
   "execution_count": null,
   "metadata": {
    "collapsed": true
   },
   "outputs": [],
   "source": []
  },
  {
   "cell_type": "code",
   "execution_count": null,
   "metadata": {
    "collapsed": true
   },
   "outputs": [],
   "source": []
  },
  {
   "cell_type": "code",
   "execution_count": null,
   "metadata": {
    "collapsed": true
   },
   "outputs": [],
   "source": []
  },
  {
   "cell_type": "code",
   "execution_count": null,
   "metadata": {
    "collapsed": true
   },
   "outputs": [],
   "source": []
  },
  {
   "cell_type": "code",
   "execution_count": null,
   "metadata": {
    "collapsed": true
   },
   "outputs": [],
   "source": []
  },
  {
   "cell_type": "code",
   "execution_count": null,
   "metadata": {
    "collapsed": true
   },
   "outputs": [],
   "source": []
  },
  {
   "cell_type": "code",
   "execution_count": null,
   "metadata": {
    "collapsed": true
   },
   "outputs": [],
   "source": []
  },
  {
   "cell_type": "code",
   "execution_count": null,
   "metadata": {
    "collapsed": true
   },
   "outputs": [],
   "source": []
  },
  {
   "cell_type": "code",
   "execution_count": null,
   "metadata": {
    "collapsed": false
   },
   "outputs": [],
   "source": [
    "###\n",
    "### Planteamiento del problema como red neuronal\n",
    "###\n",
    "\n",
    "# unknowns\n",
    "n = 2;\n",
    "\n",
    "# equations\n",
    "m = 1;\n",
    "\n",
    "# valid values of the unknowns\n",
    "xs = rand(n);\n",
    "\n",
    "# weights of a neural net layer\n",
    "W  = rand(Uniform(-sqrt(n+1),sqrt(n+1)), (n+1,m));\n",
    "\n",
    "# real estimation of xs flowing through the layer\n",
    "ys = map(σ, W'*[1.0;xs]);\n",
    ";\n",
    "# Conociendo W y ys, encontrar xs que cumplan ys = map(σ, W'*[1.0;xs])"
   ]
  },
  {
   "cell_type": "code",
   "execution_count": null,
   "metadata": {
    "collapsed": false
   },
   "outputs": [],
   "source": [
    "###\n",
    "### Planteamiento del problema como álgebra lineal\n",
    "###\n",
    "\n",
    "A = W'[:,2:end];\n",
    "b = ys-W'[:,1]\n",
    ";\n",
    "# Encontrar z tal que Az = b"
   ]
  },
  {
   "cell_type": "code",
   "execution_count": null,
   "metadata": {
    "collapsed": false
   },
   "outputs": [],
   "source": [
    "A"
   ]
  },
  {
   "cell_type": "code",
   "execution_count": null,
   "metadata": {
    "collapsed": false
   },
   "outputs": [],
   "source": [
    "b"
   ]
  },
  {
   "cell_type": "code",
   "execution_count": null,
   "metadata": {
    "collapsed": false
   },
   "outputs": [],
   "source": [
    "pinv(A)"
   ]
  },
  {
   "cell_type": "code",
   "execution_count": null,
   "metadata": {
    "collapsed": false
   },
   "outputs": [],
   "source": [
    "x = pinv(A)*b + (eye(size(A)[2]) - pinv(A)*A)*[0,0]"
   ]
  },
  {
   "cell_type": "code",
   "execution_count": null,
   "metadata": {
    "collapsed": false
   },
   "outputs": [],
   "source": [
    "abs(A*x-b.-0)"
   ]
  },
  {
   "cell_type": "code",
   "execution_count": null,
   "metadata": {
    "collapsed": false
   },
   "outputs": [],
   "source": [
    "eye(size(A)[2]) - pinv(A)*A"
   ]
  },
  {
   "cell_type": "code",
   "execution_count": null,
   "metadata": {
    "collapsed": false
   },
   "outputs": [],
   "source": [
    "-pinv(A)*b"
   ]
  },
  {
   "cell_type": "code",
   "execution_count": null,
   "metadata": {
    "collapsed": true
   },
   "outputs": [],
   "source": []
  },
  {
   "cell_type": "code",
   "execution_count": null,
   "metadata": {
    "collapsed": true
   },
   "outputs": [],
   "source": []
  },
  {
   "cell_type": "code",
   "execution_count": null,
   "metadata": {
    "collapsed": true
   },
   "outputs": [],
   "source": []
  },
  {
   "cell_type": "code",
   "execution_count": null,
   "metadata": {
    "collapsed": true
   },
   "outputs": [],
   "source": []
  },
  {
   "cell_type": "code",
   "execution_count": null,
   "metadata": {
    "collapsed": false
   },
   "outputs": [],
   "source": [
    "let B = eye(size(A)[2]) - pinv(A)*A,\n",
    "    x2 = [0,0],\n",
    "    x3 = [1,1],\n",
    "    inv = pinv(A)*b,\n",
    "    v2 = x2 - inv,\n",
    "    v3 = x3 - inv\n",
    "    \n",
    "    w2 = v2\\B\n",
    "    w3 = v3\\B\n",
    "    \n",
    "    newX2 = inv + w2*B\n",
    "    newX3 = inv + w3*B\n",
    "end"
   ]
  },
  {
   "cell_type": "code",
   "execution_count": null,
   "metadata": {
    "collapsed": true
   },
   "outputs": [],
   "source": []
  },
  {
   "cell_type": "code",
   "execution_count": null,
   "metadata": {
    "collapsed": true
   },
   "outputs": [],
   "source": []
  },
  {
   "cell_type": "code",
   "execution_count": null,
   "metadata": {
    "collapsed": true
   },
   "outputs": [],
   "source": []
  },
  {
   "cell_type": "code",
   "execution_count": null,
   "metadata": {
    "collapsed": true
   },
   "outputs": [],
   "source": []
  },
  {
   "cell_type": "code",
   "execution_count": null,
   "metadata": {
    "collapsed": false
   },
   "outputs": [],
   "source": [
    "function rref{T}(A::Matrix{T})\n",
    "    nr, nc = size(A)\n",
    "    U = copy!(similar(A, T <: Complex ? Complex128 : Float64), A)\n",
    "    e = eps(norm(U,Inf))\n",
    "    i = j = 1\n",
    "    while i <= nr && j <= nc\n",
    "        (m, mi) = findmax(abs(U[i:nr,j]))\n",
    "        mi = mi+i - 1\n",
    "        if m <= e\n",
    "            U[i:nr,j] = 0\n",
    "            j += 1\n",
    "        else\n",
    "            for k=j:nc\n",
    "                U[i, k], U[mi, k] = U[mi, k], U[i, k]\n",
    "            end\n",
    "            d = U[i,j]\n",
    "            for k = j:nc\n",
    "                U[i,k] /= d\n",
    "            end\n",
    "            for k = 1:nr\n",
    "                if k != i\n",
    "                    d = U[k,j]\n",
    "                    for l = j:nc\n",
    "                        U[k,l] -= d*U[i,l]\n",
    "                    end\n",
    "                end\n",
    "            end\n",
    "            i += 1\n",
    "            j += 1\n",
    "        end\n",
    "    end\n",
    "    U\n",
    "end"
   ]
  },
  {
   "cell_type": "code",
   "execution_count": null,
   "metadata": {
    "collapsed": false
   },
   "outputs": [],
   "source": [
    "rref([A b])"
   ]
  },
  {
   "cell_type": "code",
   "execution_count": null,
   "metadata": {
    "collapsed": false
   },
   "outputs": [],
   "source": [
    "let FGH = svd(A),\n",
    "    F = FGH[1],\n",
    "    G = FGH[2],\n",
    "    H = FGH[3]\n",
    "    \n",
    "    println(F)\n",
    "    println()\n",
    "    println(G)\n",
    "    println()\n",
    "    println(H)\n",
    "end"
   ]
  },
  {
   "cell_type": "code",
   "execution_count": null,
   "metadata": {
    "collapsed": true
   },
   "outputs": [],
   "source": []
  },
  {
   "cell_type": "code",
   "execution_count": null,
   "metadata": {
    "collapsed": true
   },
   "outputs": [],
   "source": []
  },
  {
   "cell_type": "code",
   "execution_count": null,
   "metadata": {
    "collapsed": true
   },
   "outputs": [],
   "source": []
  },
  {
   "cell_type": "code",
   "execution_count": null,
   "metadata": {
    "collapsed": true
   },
   "outputs": [],
   "source": []
  },
  {
   "cell_type": "code",
   "execution_count": null,
   "metadata": {
    "collapsed": true
   },
   "outputs": [],
   "source": []
  },
  {
   "cell_type": "code",
   "execution_count": 23,
   "metadata": {
    "collapsed": false
   },
   "outputs": [
    {
     "data": {
      "text/plain": [
       "solutions (generic function with 1 method)"
      ]
     },
     "execution_count": 23,
     "metadata": {},
     "output_type": "execute_result"
    }
   ],
   "source": [
    "function solutions(equations, unknowns)\n",
    "    # Neural network\n",
    "    weights     = rand(Uniform(-sqrt(unknowns+1),sqrt(unknowns+1)), (unknowns+1,equations))\n",
    "    activations = rand(unknowns)\n",
    "    results     = map(σ, weights'*[1.0;activations])\n",
    "    # Linear algebra\n",
    "    matrix      = weights'[:,2:end]\n",
    "    solution    = results - weights'[:,1]\n",
    "    \n",
    "    inverse = pinv(matrix)\n",
    "    \n",
    "    A = inverse*solution\n",
    "    B = I-inverse*matrix\n",
    "    \n",
    "    \n",
    "    \n",
    "    function f(w)\n",
    "        I = eye(unknowns)\n",
    "        #println(\"$(size(inverse)) * $(size(solution)) + ($(size(I)) - $(size(inverse)) * $(size(matrix))) * $(size(w))\")\n",
    "        A + B*w\n",
    "    end\n",
    "    \n",
    "    return f, weights, results\n",
    "end"
   ]
  },
  {
   "cell_type": "code",
   "execution_count": 24,
   "metadata": {
    "collapsed": false
   },
   "outputs": [
    {
     "data": {
      "text/plain": [
       "(f,\n",
       "5x2 Array{Float64,2}:\n",
       "  2.05965   -0.966901\n",
       " -0.876383   2.07872 \n",
       " -0.86542    1.24307 \n",
       "  0.445383   2.11353 \n",
       " -1.94772   -0.356247,\n",
       "\n",
       "[0.7322967432942546,0.7007621567768642])"
      ]
     },
     "execution_count": 24,
     "metadata": {},
     "output_type": "execute_result"
    }
   ],
   "source": [
    "f, W, ys = solutions(2, 4)"
   ]
  },
  {
   "cell_type": "code",
   "execution_count": 25,
   "metadata": {
    "collapsed": false
   },
   "outputs": [
    {
     "data": {
      "text/plain": [
       "4-element Array{Float64,1}:\n",
       " 0.46291 \n",
       " 0.348579\n",
       " 0.189708\n",
       " 0.361701"
      ]
     },
     "execution_count": 25,
     "metadata": {},
     "output_type": "execute_result"
    }
   ],
   "source": [
    "f([0, 0, 0, 0])"
   ]
  },
  {
   "cell_type": "code",
   "execution_count": 26,
   "metadata": {
    "collapsed": false
   },
   "outputs": [
    {
     "data": {
      "text/plain": [
       "4-element Array{Float64,1}:\n",
       "  0.976768 \n",
       "  0.0180058\n",
       " -0.148511 \n",
       "  0.20003  "
      ]
     },
     "execution_count": 26,
     "metadata": {},
     "output_type": "execute_result"
    }
   ],
   "source": [
    "f([1, 0, 0, 0])"
   ]
  },
  {
   "cell_type": "code",
   "execution_count": 27,
   "metadata": {
    "collapsed": false
   },
   "outputs": [
    {
     "data": {
      "text/plain": [
       "4-element Array{Float64,1}:\n",
       " -0.0509491\n",
       "  0.679151 \n",
       "  0.527927 \n",
       "  0.523373 "
      ]
     },
     "execution_count": 27,
     "metadata": {},
     "output_type": "execute_result"
    }
   ],
   "source": [
    "f([-1, 0, 0, 0])"
   ]
  },
  {
   "cell_type": "code",
   "execution_count": 28,
   "metadata": {
    "collapsed": false
   },
   "outputs": [
    {
     "data": {
      "text/plain": [
       "4-element Array{Float64,1}:\n",
       " 0.132337 \n",
       " 1.10531  \n",
       " 0.0320879\n",
       " 0.138167 "
      ]
     },
     "execution_count": 28,
     "metadata": {},
     "output_type": "execute_result"
    }
   ],
   "source": [
    "f([0, 1, 0, 0])"
   ]
  },
  {
   "cell_type": "code",
   "execution_count": 29,
   "metadata": {
    "collapsed": false
   },
   "outputs": [
    {
     "data": {
      "text/plain": [
       "5x2 Array{Float64,2}:\n",
       "  2.05965   -0.966901\n",
       " -0.876383   2.07872 \n",
       " -0.86542    1.24307 \n",
       "  0.445383   2.11353 \n",
       " -1.94772   -0.356247"
      ]
     },
     "execution_count": 29,
     "metadata": {},
     "output_type": "execute_result"
    }
   ],
   "source": [
    "W"
   ]
  },
  {
   "cell_type": "code",
   "execution_count": 30,
   "metadata": {
    "collapsed": false
   },
   "outputs": [
    {
     "data": {
      "text/plain": [
       "2-element Array{Float64,1}:\n",
       " 0.732297\n",
       " 0.700762"
      ]
     },
     "execution_count": 30,
     "metadata": {},
     "output_type": "execute_result"
    }
   ],
   "source": [
    "ys"
   ]
  },
  {
   "cell_type": "code",
   "execution_count": 33,
   "metadata": {
    "collapsed": false
   },
   "outputs": [
    {
     "data": {
      "text/plain": [
       "2-element Array{Float64,1}:\n",
       " 0.675309\n",
       " 0.668357"
      ]
     },
     "execution_count": 33,
     "metadata": {},
     "output_type": "execute_result"
    }
   ],
   "source": [
    "map(σ, W'*[1.0, 0.46291, 0.348579, 0.189708, 0.361701])"
   ]
  },
  {
   "cell_type": "code",
   "execution_count": null,
   "metadata": {
    "collapsed": true
   },
   "outputs": [],
   "source": []
  },
  {
   "cell_type": "code",
   "execution_count": null,
   "metadata": {
    "collapsed": true
   },
   "outputs": [],
   "source": []
  },
  {
   "cell_type": "code",
   "execution_count": null,
   "metadata": {
    "collapsed": true
   },
   "outputs": [],
   "source": []
  },
  {
   "cell_type": "code",
   "execution_count": null,
   "metadata": {
    "collapsed": true
   },
   "outputs": [],
   "source": []
  },
  {
   "cell_type": "code",
   "execution_count": null,
   "metadata": {
    "collapsed": true
   },
   "outputs": [],
   "source": []
  }
 ],
 "metadata": {
  "kernelspec": {
   "display_name": "Julia 0.4.0",
   "language": "julia",
   "name": "julia-0.4"
  },
  "language_info": {
   "file_extension": ".jl",
   "mimetype": "application/julia",
   "name": "julia",
   "version": "0.4.1"
  }
 },
 "nbformat": 4,
 "nbformat_minor": 0
}
