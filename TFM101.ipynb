{
 "cells": [
  {
   "cell_type": "markdown",
   "metadata": {},
   "source": [
    "#TensorFlow Mecanica 101"
   ]
  },
  {
   "cell_type": "markdown",
   "metadata": {},
   "source": [
    "El objetivo de este tutorial es mostrar como utilizar TensorFlow para entrenar y evaluar una red neuronal feed-forward para la clasificacion de digitos escritos a mano mediante el dataset de MNIST. Se revisan dos archivos de python y se examinan las funciones principales de dichos archivos."
   ]
  },
  {
   "cell_type": "markdown",
   "metadata": {},
   "source": [
    "#Archivos usados en el Tutorial"
   ]
  },
  {
   "cell_type": "markdown",
   "metadata": {},
   "source": [
    "En este tutorial se usan los siguientes dos archivos los cuales se pueden encontrar en el github del proyecto TensorFlow los cuales son:\n",
    "\n",
    "* mnist.py (El codigo para construir un modelo MNIST plenamente conectado.)\n",
    "* fully_connected_feed.py (El codigo principal para entrenar el modelo MNIST construido contra el conjunto de datos descargados usando un diccionario de alimentacion.)\n",
    "\n",
    "Si se ejecuta el archivo fully_connected_feed.py se empieza a entrenar la red neuronal."
   ]
  },
  {
   "cell_type": "markdown",
   "metadata": {},
   "source": [
    "#Preparar los Datos"
   ]
  },
  {
   "cell_type": "markdown",
   "metadata": {},
   "source": [
    "MNIST es un problema clasico de machine learning el cual consiste en un conjunto de imagenes de tamanio de 28 x 28 con digitos escritos a mano de 0-9 en lo cual se busca clasificar las imagenes de acuerdo a la clase a la que pertenecen por ejemplo si en la imagen hay un 0 se espera que se clasifique dicha imagen en la clase 0."
   ]
  },
  {
   "cell_type": "markdown",
   "metadata": {},
   "source": [
    "#Descarga"
   ]
  },
  {
   "cell_type": "markdown",
   "metadata": {},
   "source": [
    "En el archivo fully_connected_feed.py hay una funcion que se llama run_training() en dicha funcion hay una linea de codigo que dice input_data.read_data_sets() la cual consiste en descargar los datos en una carpeta y regresa un diccionario el cual se llama data_sets en donde se encuentran las instancias a dichos datos.\n",
    "\n",
    "data_sets = input_data.read_data_sets(FLAGS.train_dir, FLAGS.fake_data)\n",
    "\n",
    "Los datos a tratar son los siguientes:\n",
    "\n",
    "* data_sets.train (Contiene 55000 imagenes y etiquetas para entrenar)\n",
    "* data_sets.validation (Contiene 5000 imagenes y etiquetas para validar la exactitud del entrenamiento)\n",
    "* data_sets.test (Contiene 10000 imagenes y etiquetas para testear la exactitud del entrenamiento)\n"
   ]
  }
 ],
 "metadata": {
  "kernelspec": {
   "display_name": "Python 2",
   "language": "python",
   "name": "python2"
  },
  "language_info": {
   "codemirror_mode": {
    "name": "ipython",
    "version": 2
   },
   "file_extension": ".py",
   "mimetype": "text/x-python",
   "name": "python",
   "nbconvert_exporter": "python",
   "pygments_lexer": "ipython2",
   "version": "2.7.11"
  }
 },
 "nbformat": 4,
 "nbformat_minor": 0
}
